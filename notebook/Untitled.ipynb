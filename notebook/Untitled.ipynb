{
 "cells": [
  {
   "cell_type": "code",
   "execution_count": 2,
   "id": "88d2aa0c-8eb4-4bde-8e5e-bace4c8694b7",
   "metadata": {
    "tags": []
   },
   "outputs": [],
   "source": [
    "from mmdet.apis import init_detector, inference_detector\n",
    "device = 'cpu'"
   ]
  },
  {
   "cell_type": "code",
   "execution_count": 3,
   "id": "a314bef2-8b69-46dd-938c-72f5ffce2894",
   "metadata": {
    "tags": []
   },
   "outputs": [
    {
     "name": "stdout",
     "output_type": "stream",
     "text": [
      "Traceback (most recent call last):\n",
      "  File \"/opt/conda/bin/mim\", line 8, in <module>\n",
      "    sys.exit(cli())\n",
      "  File \"/opt/conda/lib/python3.7/site-packages/click/core.py\", line 1130, in __call__\n",
      "    return self.main(*args, **kwargs)\n",
      "  File \"/opt/conda/lib/python3.7/site-packages/click/core.py\", line 1055, in main\n",
      "    rv = self.invoke(ctx)\n",
      "  File \"/opt/conda/lib/python3.7/site-packages/click/core.py\", line 1657, in invoke\n",
      "    return _process_result(sub_ctx.command.invoke(sub_ctx))\n",
      "  File \"/opt/conda/lib/python3.7/site-packages/click/core.py\", line 1404, in invoke\n",
      "    return ctx.invoke(self.callback, **ctx.params)\n",
      "  File \"/opt/conda/lib/python3.7/site-packages/click/core.py\", line 760, in invoke\n",
      "    return __callback(*args, **kwargs)\n",
      "  File \"/opt/conda/lib/python3.7/site-packages/mim/commands/download.py\", line 57, in cli\n",
      "    download(package, configs, dest_root, check_certificate)\n",
      "  File \"/opt/conda/lib/python3.7/site-packages/mim/commands/download.py\", line 101, in download\n",
      "    highlighted_error(f'Expected configs: {valid_configs}, but got '\n",
      "ValueError: \u001b[31m\u001b[1mExpected configs: dict_keys(['mask-rcnn_r50_fpn_albu-1x_coco', 'atss_r50_fpn_1x_coco', 'atss_r101_fpn_1x_coco', 'autoassign_r50-caffe_fpn_1x_coco', 'boxinst_r50_fpn_ms-90k_coco', 'boxinst_r101_fpn_ms-90k_coco', 'faster-rcnn_r50_fpn_carafe_1x_coco', 'mask-rcnn_r50_fpn_carafe_1x_coco', 'cascade-rcnn_r50-caffe_fpn_1x_coco', 'cascade-rcnn_r50_fpn_1x_coco', 'cascade-rcnn_r50_fpn_20e_coco', 'cascade-rcnn_r101-caffe_fpn_1x_coco', 'cascade-rcnn_r101_fpn_1x_coco', 'cascade-rcnn_r101_fpn_20e_coco', 'cascade-rcnn_x101-32x4d_fpn_1x_coco', 'cascade-rcnn_x101-32x4d_fpn_20e_coco', 'cascade-rcnn_x101-64x4d_fpn_1x_coco', 'cascade-rcnn_x101_64x4d_fpn_20e_coco', 'cascade-mask-rcnn_r50-caffe_fpn_1x_coco', 'cascade-mask-rcnn_r50_fpn_1x_coco', 'cascade-mask-rcnn_r50_fpn_20e_coco', 'cascade-mask-rcnn_r101-caffe_fpn_1x_coco', 'cascade-mask-rcnn_r101_fpn_1x_coco', 'cascade-mask-rcnn_r101_fpn_20e_coco', 'cascade-mask-rcnn_x101-32x4d_fpn_1x_coco', 'cascade-mask-rcnn_x101-32x4d_fpn_20e_coco', 'cascade-mask-rcnn_x101-64x4d_fpn_1x_coco', 'cascade-mask-rcnn_x101-64x4d_fpn_20e_coco', 'cascade-mask-rcnn_r50-caffe_fpn_ms-3x_coco', 'cascade-mask-rcnn_r50_fpn_mstrain_3x_coco', 'cascade-mask-rcnn_r101-caffe_fpn_ms-3x_coco', 'cascade-mask-rcnn_r101_fpn_ms-3x_coco', 'cascade-mask-rcnn_x101-32x4d_fpn_ms-3x_coco', 'cascade-mask-rcnn_x101-32x8d_fpn_ms-3x_coco', 'cascade-mask-rcnn_x101-64x4d_fpn_ms-3x_coco', 'cascade-rpn_fast-rcnn_r50-caffe_fpn_1x_coco', 'cascade-rpn_faster-rcnn_r50-caffe_fpn_1x_coco', 'centernet_r18-dcnv2_8xb16-crop512-140e_coco', 'centernet_r18_8xb16-crop512-140e_coco', 'centernet-update_r50-caffe_fpn_ms-1x_coco', 'centripetalnet_hourglass104_16xb6-crop511-210e-mstest_coco', 'condinst_r50_fpn_ms-poly-90k_coco_instance', 'conditional-detr_r50_8xb2-50e_coco.py', 'cornernet_hourglass104_10xb5-crop511-210e-mstest_coco', 'cornernet_hourglass104_8xb6-210e-mstest_coco', 'cornernet_hourglass104_32xb3-210e-mstest_coco', 'mask-rcnn_convnext-t-p4-w7_fpn_amp-ms-crop-3x_coco', 'cascade-mask-rcnn_convnext-t-p4-w7_fpn_4conv1fc-giou_amp-ms-crop-3x_coco', 'cascade-mask-rcnn_convnext-s-p4-w7_fpn_4conv1fc-giou_amp-ms-crop-3x_coco', 'crowddet-rcnn_refine_r50_fpn_8xb2-30e_crowdhuman', 'crowddet-rcnn_r50_fpn_8xb2-30e_crowdhuman', 'dab-detr_r50_8xb2-50e_coco.py', 'faster-rcnn_r50_fpn_dconv_c3-c5_1x_coco', 'faster-rcnn_r50_fpn_dpool_1x_coco', 'faster-rcnn_r101-dconv-c3-c5_fpn_1x_coco', 'faster-rcnn_x101-32x4d-dconv-c3-c5_fpn_1x_coco', 'mask-rcnn_r50_fpn_dconv_c3-c5_1x_coco', 'mask-rcnn_r50_fpn_fp16_dconv_c3-c5_1x_coco', 'mask-rcnn_r101-dconv-c3-c5_fpn_1x_coco', 'cascade-rcnn_r50_fpn_dconv_c3-c5_1x_coco', 'cascade-rcnn_r101-dconv-c3-c5_fpn_1x_coco', 'cascade-mask-rcnn_r50_fpn_dconv_c3-c5_1x_coco', 'cascade-mask-rcnn_r101-dconv-c3-c5_fpn_1x_coco', 'cascade-mask-rcnn_x101-32x4d-dconv-c3-c5_fpn_1x_coco', 'faster-rcnn_r50_fpn_mdconv_c3-c5_1x_coco', 'faster-rcnn_r50_fpn_mdconv_c3-c5_group4_1x_coco', 'faster-rcnn_r50_fpn_mdpool_1x_coco', 'mask-rcnn_r50_fpn_mdconv_c3-c5_1x_coco', 'mask-rcnn_r50_fpn_fp16_mdconv_c3-c5_1x_coco', 'ddod_r50_fpn_1x_coco', 'deformable-detr_r50_16xb2-50e_coco', 'deformable-detr_refine_r50_16xb2-50e_coco', 'deformable-detr_refine_twostage_r50_16xb2-50e_coco', 'cascade-rcnn_r50-rfp_1x_coco', 'cascade-rcnn_r50-sac_1x_coco', 'detectors_cascade-rcnn_r50_1x_coco', 'htc_r50-rfp_1x_coco', 'htc_r50-sac_1x_coco', 'detectors_htc-r50_1x_coco', 'detr_r50_8xb2-150e_coco', 'dino-4scale_r50_8xb2-12e_coco.py', 'dino-4scale_r50_8xb2-24e_coco.py', 'dino-5scale_swin-l_8xb2-12e_coco.py', 'dino-5scale_swin-l_8xb2-36e_coco.py', 'dh-faster-rcnn_r50_fpn_1x_coco', 'atss_r50-caffe_fpn_dyhead_1x_coco', 'atss_r50_fpn_dyhead_1x_coco', 'atss_swin-l-p4-w12_fpn_dyhead_ms-2x_coco', 'dynamic-rcnn_r50_fpn_1x_coco', 'retinanet_effb3_fpn_8xb4-crop896-1x_coco', 'faster-rcnn_r50_fpn_attention_1111_1x_coco', 'faster-rcnn_r50_fpn_attention_0010_1x_coco', 'faster-rcnn_r50_fpn_attention_1111_dcn_1x_coco', 'faster-rcnn_r50_fpn_attention_0010_dcn_1x_coco', 'faster-rcnn_r50-caffe-c4_1x_coco', 'faster-rcnn_r50-caffe-c4_mstrain_1x_coco', 'faster-rcnn_r50-caffe-dc5_1x_coco', 'faster-rcnn_r50-caffe_fpn_1x_coco', 'faster-rcnn_r50_fpn_1x_coco', 'faster-rcnn_r50_fpn_fp16_1x_coco', 'faster-rcnn_r50_fpn_2x_coco', 'faster-rcnn_r101-caffe_fpn_1x_coco', 'faster-rcnn_r101_fpn_1x_coco', 'faster-rcnn_r101_fpn_2x_coco', 'faster-rcnn_x101-32x4d_fpn_1x_coco', 'faster-rcnn_x101-32x4d_fpn_2x_coco', 'faster-rcnn_x101-64x4d_fpn_1x_coco', 'faster-rcnn_x101-64x4d_fpn_2x_coco', 'faster-rcnn_r50_fpn_iou_1x_coco', 'faster-rcnn_r50_fpn_giou_1x_coco', 'faster-rcnn_r50_fpn_bounded_iou_1x_coco', 'faster-rcnn_r50-caffe-dc5_mstrain_1x_coco', 'faster-rcnn_r50-caffe-dc5_mstrain_3x_coco', 'faster-rcnn_r50-caffe_fpn_ms-2x_coco', 'faster-rcnn_r50-caffe_fpn_ms-3x_coco', 'faster-rcnn_r50_fpn_mstrain_3x_coco', 'faster-rcnn_r101-caffe_fpn_ms-3x_coco', 'faster-rcnn_r101_fpn_ms-3x_coco', 'faster-rcnn_x101-32x4d_fpn_ms-3x_coco', 'faster-rcnn_x101-32x8d_fpn_ms-3x_coco', 'faster-rcnn_x101-64x4d_fpn_ms-3x_coco', 'faster-rcnn_r50_fpn_tnr-pretrain_1x_coco', 'fcos_r50-caffe_fpn_gn-head_1x_coco', 'fcos_r50-caffe_fpn_gn-head-center-normbbox-centeronreg-giou_1x_coco', 'fcos_r50-dcn-caffe_fpn_gn-head-center-normbbox-centeronreg-giou_1x_coco', 'fcos_r101-caffe_fpn_gn-head-1x_coco', 'fcos_r50-caffe_fpn_gn-head_ms-640-800-2x_coco', 'fcos_r101-caffe_fpn_gn-head_ms-640-800-2x_coco', 'fcos_x101-64x4d_fpn_gn-head_ms-640-800-2x_coco', 'fovea_r50_fpn_4xb4-1x_coco', 'fovea_r50_fpn_4xb4-2x_coco', 'fovea_r50_fpn_gn-head-align_4xb4-2x_coco', 'fovea_r50_fpn_gn-head-align_ms-640-800-4xb4-2x_coco', 'fovea_r101_fpn_4xb4-1x_coco', 'fovea_r101_fpn_4xb4-2x_coco', 'fovea_r101_fpn_gn-head-align_4xb4-2x_coco', 'fovea_r101_fpn_gn-head-align_ms-640-800-4xb4-2x_coco', 'faster-rcnn_r50_fpg_crop640-50e_coco', 'faster-rcnn_r50_fpg-chn128_crop640-50e_coco', 'mask-rcnn_r50_fpg_crop640-50e_coco', 'mask-rcnn_r50_fpg-chn128_crop640-50e_coco', 'retinanet_r50_fpg_crop640_50e_coco', 'retinanet_r50_fpg-chn128_crop640_50e_coco', 'freeanchor_r50_fpn_1x_coco', 'freeanchor_r101_fpn_1x_coco', 'freeanchor_x101-32x4d_fpn_1x_coco', 'fsaf_r50_fpn_1x_coco', 'fsaf_r101_fpn_1x_coco', 'fsaf_x101-64x4d_fpn_1x_coco', 'mask-rcnn_r50_fpn_r16_gcb_c3-c5_1x_coco', 'mask-rcnn_r50_fpn_r4_gcb_c3-c5_1x_coco', 'mask-rcnn_r101-gcb-r16-c3-c5_fpn_1x_coco', 'mask-rcnn_r101-gcb-r4-c3-c5_fpn_1x_coco', 'mask-rcnn_r50_fpn_syncbn-backbone_1x_coco', 'mask-rcnn_r50_fpn_syncbn-backbone_r16_gcb_c3-c5_1x_coco', 'mask-rcnn_r50_fpn_syncbn-backbone_r4_gcb_c3-c5_1x_coco', 'mask-rcnn_r101-syncbn_fpn_1x_coco', 'mask-rcnn_r101-syncbn-gcb-r16-c3-c5_fpn_1x_coco', 'mask-rcnn_r101-syncbn-gcb-r4-c3-c5_fpn_1x_coco', 'mask-rcnn_x101-32x4d-syncbn_fpn_1x_coco', 'mask-rcnn_x101-32x4d-syncbn-gcb-r16-c3-c5_fpn_1x_coco', 'mask-rcnn_x101-32x4d-syncbn-gcb-r4-c3-c5_fpn_1x_coco', 'cascade-mask-rcnn_x101-32x4d-syncbn_fpn_1x_coco', 'cascade-mask-rcnn_x101-32x4d-syncbn-r16-gcb-c3-c5_fpn_1x_coco', 'cascade-mask-rcnn_x101-32x4d-syncbn-r4-gcb-c3-c5_fpn_1x_coco', 'cascade-mask-rcnn_x101-32x4d-syncbn-dconv-c3-c5_fpn_1x_coco', 'cascade-mask-rcnn_x101-32x4d-syncbn-dconv-c3-c5-r16-gcb-c3-c5_fpn_1x_coco', 'cascade-mask-rcnn_x101-32x4d-syncbn-dconv-c3-c5-r4-gcb-c3-c5_fpn_1x_coco', 'gfl_r50_fpn_1x_coco', 'gfl_r50_fpn_ms-2x_coco', 'gfl_r101_fpn_ms-2x_coco', 'gfl_r101-dconv-c3-c5_fpn_ms-2x_coco', 'gfl_x101-32x4d_fpn_ms-2x_coco', 'gfl_x101-32x4d-dconv-c4-c5_fpn_ms-2x_coco', 'retinanet_r50_fpn_ghm-1x_coco', 'retinanet_r101_fpn_ghm-1x_coco', 'retinanet_x101-32x4d_fpn_ghm-1x_coco', 'retinanet_x101-64x4d_fpn_ghm-1x_coco', 'mask-rcnn_r50_fpn_gn-all_2x_coco', 'mask-rcnn_r50_fpn_gn-all_3x_coco', 'mask-rcnn_r101_fpn_gn-all_2x_coco', 'mask-rcnn_r101_fpn_gn-all_3x_coco', 'mask-rcnn_r50_fpn_gn-all_contrib_2x_coco', 'mask-rcnn_r50_fpn_gn-all_contrib_3x_coco', 'faster-rcnn_r50_fpn_gn_ws-all_1x_coco', 'faster-rcnn_r101_fpn_gn-ws-all_1x_coco', 'faster-rcnn_x50-32x4d_fpn_gn-ws-all_1x_coco', 'faster-rcnn_x101-32x4d_fpn_gn-ws-all_1x_coco', 'mask-rcnn_r50_fpn_gn_ws-all_2x_coco', 'mask-rcnn_r101_fpn_gn-ws-all_2x_coco', 'mask-rcnn_x50-32x4d_fpn_gn-ws-all_2x_coco', 'mask-rcnn_x101-32x4d_fpn_gn-ws-all_2x_coco', 'mask-rcnn_r50_fpn_gn_ws-all_20_23_24e_coco', 'mask-rcnn_r101_fpn_gn-ws-all_20-23-24e_coco', 'mask-rcnn_x50-32x4d_fpn_gn-ws-all_20-23-24e_coco', 'mask-rcnn_x101-32x4d_fpn_gn-ws-all_20-23-24e_coco', 'grid-rcnn_r50_fpn_gn-head_2x_coco', 'grid-rcnn_r101_fpn_gn-head_2x_coco', 'grid-rcnn_x101-32x4d_fpn_gn-head_2x_coco', 'grid-rcnn_x101-64x4d_fpn_gn-head_2x_coco', 'faster-rcnn_r50_fpn_groie_1x_coco', 'grid-rcnn_r50_fpn_gn-head-groie_1x_coco', 'mask-rcnn_r50_fpn_groie_1x_coco', 'mask-rcnn_r50_fpn_syncbn-backbone_r4_gcb_c3-c5_groie_1x_coco', 'mask-rcnn_r101_fpn_syncbn-r4-gcb_c3-c5-groie_1x_coco', 'ga-rpn_r50-caffe_fpn_1x_coco', 'ga-rpn_r101-caffe_fpn_1x_coco', 'ga-rpn_x101-32x4d_fpn_1x_coco', 'ga-rpn_x101-64x4d_fpn_1x_coco', 'ga-faster-rcnn_r50-caffe_fpn_1x_coco', 'ga-faster-rcnn_r101-caffe_fpn_1x_coco', 'ga-faster-rcnn_x101-32x4d_fpn_1x_coco', 'ga-faster-rcnn_x101-64x4d_fpn_1x_coco', 'ga-retinanet_r50-caffe_fpn_1x_coco', 'ga-retinanet_r101-caffe_fpn_1x_coco', 'ga-retinanet_x101-32x4d_fpn_1x_coco', 'ga-retinanet_x101-64x4d_fpn_1x_coco', 'faster-rcnn_hrnetv2p-w18-1x_coco', 'faster-rcnn_hrnetv2p-w18-2x_coco', 'faster-rcnn_hrnetv2p-w32-1x_coco', 'faster-rcnn_hrnetv2p-w32_2x_coco', 'faster-rcnn_hrnetv2p-w40-1x_coco', 'faster-rcnn_hrnetv2p-w40_2x_coco', 'mask-rcnn_hrnetv2p-w18-1x_coco', 'mask-rcnn_hrnetv2p-w18-2x_coco', 'mask-rcnn_hrnetv2p-w32-1x_coco', 'mask-rcnn_hrnetv2p-w32-2x_coco', 'mask-rcnn_hrnetv2p-w40_1x_coco', 'mask-rcnn_hrnetv2p-w40-2x_coco', 'cascade-rcnn_hrnetv2p-w18-20e_coco', 'cascade-rcnn_hrnetv2p-w32-20e_coco', 'cascade-rcnn_hrnetv2p-w40-20e_coco', 'cascade-mask-rcnn_hrnetv2p-w18_20e_coco', 'cascade-mask-rcnn_hrnetv2p-w32_20e_coco', 'cascade-mask-rcnn_hrnetv2p-w40-20e_coco', 'htc_hrnetv2p-w18_20e_coco', 'htc_hrnetv2p-w32_20e_coco', 'htc_hrnetv2p-w40_20e_coco', 'fcos_hrnetv2p-w18-gn-head_4xb4-1x_coco', 'fcos_hrnetv2p-w18-gn-head_4xb4-2x_coco', 'fcos_hrnetv2p-w32-gn-head_4xb4-1x_coco', 'fcos_hrnetv2p-w32-gn-head_4xb4-2x_coco', 'fcos_hrnetv2p-w18-gn-head_ms-640-800-4xb4-2x_coco', 'fcos_hrnetv2p-w32-gn-head_ms-640-800-4xb4-2x_coco', 'fcos_hrnetv2p-w40-gn-head_ms-640-800-4xb4-2x_coco', 'htc_r50_fpn_1x_coco', 'htc_r50_fpn_20e_coco', 'htc_r101_fpn_20e_coco', 'htc_x101-32x4d_fpn_16xb1-20e_coco', 'htc_x101-64x4d_fpn_16xb1-20e_coco', 'htc_x101-64x4d-dconv-c3-c5_fpn_ms-400-1400-16xb1-20e_coco', 'mask-rcnn_r50_fpn_instaboost_4x_coco', 'mask-rcnn_r101_fpn_instaboost-4x_coco', 'mask-rcnn_x101-64x4d_fpn_instaboost-4x_coco', 'cascade-mask-rcnn_r50_fpn_instaboost_4x_coco', 'lad_r101-paa-r50_fpn_2xb8_coco_1x', 'lad_r50-paa-r101_fpn_2xb8_coco_1x', 'ld_r18-gflv1-r101_fpn_1x_coco', 'ld_r34-gflv1-r101_fpn_1x_coco', 'ld_r50-gflv1-r101_fpn_1x_coco', 'ld_r101-gflv1-r101-dcn_fpn_2x_coco', 'libra-faster-rcnn_r50_fpn_1x_coco', 'libra-faster-rcnn_r101_fpn_1x_coco', 'libra-faster-rcnn_x101-64x4d_fpn_1x_coco', 'libra-retinanet_r50_fpn_1x_coco', 'mask-rcnn_r50_fpn_sample1e-3_ms-2x_lvis-v0.5', 'mask-rcnn_r101_fpn_sample1e-3_ms-2x_lvis-v0.5', 'mask-rcnn_x101-32x4d_fpn_sample1e-3_ms-2x_lvis-v0.5', 'mask-rcnn_x101-64x4d_fpn_sample1e-3_ms-2x_lvis-v0.5', 'mask-rcnn_r50_fpn_sample1e-3_ms-1x_lvis-v1', 'mask-rcnn_r101_fpn_sample1e-3_ms-1x_lvis-v1', 'mask-rcnn_x101-32x4d_fpn_sample1e-3_ms-1x_lvis-v1', 'mask-rcnn_x101-64x4d_fpn_sample1e-3_ms-1x_lvis-v1', 'mask2former_swin-s-p4-w7-224_8xb2-lsj-50e_coco-panoptic', 'mask2former_r101_8xb2-lsj-50e_coco', 'mask2former_r101_8xb2-lsj-50e_coco-panoptic', 'mask2former_r50_8xb2-lsj-50e_coco-panoptic', 'mask2former_swin-t-p4-w7-224_8xb2-lsj-50e_coco-panoptic', 'mask2former_r50_8xb2-lsj-50e_coco', 'mask2former_swin-l-p4-w12-384-in21k_16xb1-lsj-100e_coco-panoptic', 'mask2former_swin-b-p4-w12-384-in21k_8xb2-lsj-50e_coco-panoptic', 'mask2former_swin-b-p4-w12-384_8xb2-lsj-50e_coco-panoptic', 'mask2former_swin-t-p4-w7-224_8xb2-lsj-50e_coco', 'mask2former_swin-s-p4-w7-224_8xb2-lsj-50e_coco', 'mask-rcnn_r50-caffe_fpn_1x_coco', 'mask-rcnn_r50_fpn_1x_coco', 'mask-rcnn_r50_fpn_fp16_1x_coco', 'mask-rcnn_r50_fpn_2x_coco', 'mask-rcnn_r101-caffe_fpn_1x_coco', 'mask-rcnn_r101_fpn_1x_coco', 'mask-rcnn_r101_fpn_2x_coco', 'mask-rcnn_x101-32x4d_fpn_1x_coco', 'mask-rcnn_x101-32x4d_fpn_2x_coco', 'mask-rcnn_x101-64x4d_fpn_1x_coco', 'mask-rcnn_x101-64x4d_fpn_2x_coco', 'mask-rcnn_x101-32x8d_fpn_1x_coco', 'mask-rcnn_r50-caffe_fpn_ms-poly-2x_coco', 'mask-rcnn_r50-caffe_fpn_ms-poly-3x_coco', 'mask-rcnn_r50_fpn_mstrain-poly_3x_coco', 'mask-rcnn_r101_fpn_ms-poly-3x_coco', 'mask-rcnn_r101-caffe_fpn_ms-poly-3x_coco', 'mask-rcnn_x101-32x4d_fpn_ms-poly-3x_coco', 'mask-rcnn_x101-32x8d_fpn_ms-poly-1x_coco', 'mask-rcnn_x101-32x8d_fpn_ms-poly-3x_coco', 'mask-rcnn_x101-64x4d_fpn_ms-poly_3x_coco', 'maskformer_r50_ms-16xb1-75e_coco', 'maskformer_swin-l-p4-w12_64xb1-ms-300e_coco', 'ms-rcnn_r50-caffe_fpn_1x_coco', 'ms-rcnn_r50-caffe_fpn_2x_coco', 'ms-rcnn_r101-caffe_fpn_1x_coco', 'ms-rcnn_r101-caffe_fpn_2x_coco', 'ms-rcnn_x101-32x4d_fpn_1x_coco', 'ms-rcnn_x101-64x4d_fpn_1x_coco', 'ms-rcnn_x101-64x4d_fpn_2x_coco', 'nas-fcos_r50-caffe_fpn_nashead-gn-head_4xb4-1x_coco', 'nas-fcos_r50-caffe_fpn_fcoshead-gn-head_4xb4-1x_coco', 'retinanet_r50_fpn_crop640-50e_coco', 'retinanet_r50_nasfpn_crop640-50e_coco', 'faster-rcnn_r50_fpn_32x2_1x_openimages', 'retinanet_r50_fpn_32xb2-1x_openimages', 'ssd300_32xb8-36e_openimages', 'faster-rcnn_r50_fpn_32x2_1x_openimages_challenge', 'faster-rcnn_r50_fpn_32x2_cas_1x_openimages', 'faster-rcnn_r50_fpn_32x2_cas_1x_openimages_challenge', 'paa_r50_fpn_1x_coco', 'paa_r50_fpn_1.5x_coco', 'paa_r50_fpn_2x_coco', 'paa_r50_fpn_mstrain_3x_coco', 'paa_r101_fpn_1x_coco', 'paa_r101_fpn_2x_coco', 'paa_r101_fpn_mstrain_3x_coco', 'faster-rcnn_r50_pafpn_1x_coco', 'panoptic_fpn_r50_fpn_1x_coco', 'panoptic_fpn_r50_fpn_mstrain_3x_coco', 'panoptic_fpn_r101_fpn_1x_coco', 'panoptic_fpn_r101_fpn_mstrain_3x_coco', 'retinanet_pvt-t_fpn_1x_coco', 'retinanet_pvt-s_fpn_1x_coco', 'retinanet_pvt-m_fpn_1x_coco', 'retinanet_pvtv2-b0_fpn_1x_coco', 'retinanet_pvtv2-b1_fpn_1x_coco', 'retinanet_pvtv2-b2_fpn_1x_coco', 'retinanet_pvtv2-b3_fpn_1x_coco', 'retinanet_pvtv2-b4_fpn_1x_coco', 'retinanet_pvtv2-b5_fpn_1x_coco', 'pisa_faster_rcnn_r50_fpn_1x_coco', 'pisa_faster_rcnn_x101_32x4d_fpn_1x_coco', 'pisa_mask_rcnn_r50_fpn_1x_coco', 'pisa_retinanet_r50_fpn_1x_coco', 'pisa_retinanet_x101_32x4d_fpn_1x_coco', 'pisa_ssd300_coco', 'pisa_ssd512_coco', 'point_rend_r50_caffe_fpn_mstrain_1x_coco', 'point_rend_r50_caffe_fpn_mstrain_3x_coco', 'queryinst_r50_fpn_1x_coco', 'queryinst_r50_fpn_ms-480-800-3x_coco', 'queryinst_r50_fpn_300-proposals_crop-ms-480-800-3x_coco', 'queryinst_r101_fpn_ms-480-800-3x_coco', 'queryinst_r101_fpn_300-proposals_crop-ms-480-800-3x_coco', 'mask-rcnn_regnetx-3.2GF_fpn_1x_coco', 'mask-rcnn_regnetx-4GF_fpn_1x_coco', 'mask-rcnn_regnetx-6.4GF_fpn_1x_coco', 'mask-rcnn_regnetx-8GF_fpn_1x_coco', 'mask-rcnn_regnetx-12GF_fpn_1x_coco', 'mask-rcnn_regnetx-3.2GF-mdconv-c3-c5_fpn_1x_coco', 'faster-rcnn_regnetx-3.2GF_fpn_1x_coco', 'faster-rcnn_regnetx-3.2GF_fpn_2x_coco', 'retinanet_regnetx-800MF_fpn_1x_coco', 'retinanet_regnetx-1.6GF_fpn_1x_coco', 'retinanet_regnetx-3.2GF_fpn_1x_coco', 'faster-rcnn_regnetx-400MF_fpn_ms-3x_coco', 'faster-rcnn_regnetx-800MF_fpn_ms-3x_coco', 'faster-rcnn_regnetx-1.6GF_fpn_ms-3x_coco', 'faster-rcnn_regnetx-3.2GF_fpn_ms-3x_coco', 'faster-rcnn_regnetx-4GF_fpn_ms-3x_coco', 'mask-rcnn_regnetx-3.2GF_fpn_ms-3x_coco', 'mask-rcnn_regnetx-400MF_fpn_ms-poly-3x_coco', 'mask-rcnn_regnetx-800MF_fpn_ms-poly-3x_coco', 'mask-rcnn_regnetx-1.6GF_fpn_ms-poly-3x_coco', 'mask-rcnn_regnetx-4GF_fpn_ms-poly-3x_coco', 'cascade-mask-rcnn_regnetx-400MF_fpn_ms-3x_coco', 'cascade-mask-rcnn_regnetx-800MF_fpn_ms-3x_coco', 'cascade-mask-rcnn_regnetx-1.6GF_fpn_ms-3x_coco', 'cascade-mask-rcnn_regnetx-3.2GF_fpn_ms-3x_coco', 'cascade-mask-rcnn_regnetx-4GF_fpn_ms-3x_coco', 'reppoints-bbox_r50_fpn-gn_head-gn-grid_1x_coco', 'reppoints-bbox_r50-center_fpn-gn_head-gn-grid_1x_coco', 'reppoints-moment_r50_fpn_1x_coco', 'reppoints-moment_r50_fpn-gn_head-gn_1x_coco', 'reppoints-moment_r50_fpn-gn_head-gn_2x_coco', 'reppoints-moment_r101_fpn-gn_head-gn_2x_coco', 'reppoints-moment_r101-dconv-c3-c5_fpn-gn_head-gn_2x_coco', 'reppoints-moment_x101-dconv-c3-c5_fpn-gn_head-gn_2x_coco', 'faster-rcnn_res2net-101_fpn_2x_coco', 'mask-rcnn_res2net-101_fpn_2x_coco', 'cascade-rcnn_res2net-101_fpn_20e_coco', 'cascade-mask-rcnn_res2net-101_fpn_20e_coco', 'htc_res2net-101_fpn_20e_coco', 'faster-rcnn_s50_fpn_syncbn-backbone+head_ms-range-1x_coco', 'faster-rcnn_s101_fpn_syncbn-backbone+head_ms-range-1x_coco', 'mask-rcnn_s50_fpn_syncbn-backbone+head_ms-1x_coco', 'mask-rcnn_s101_fpn_syncbn-backbone+head_ms-1x_coco', 'cascade-rcnn_s50_fpn_syncbn-backbone+head_ms-range-1x_coco', 'cascade-rcnn_s101_fpn_syncbn-backbone+head_ms-range-1x_coco', 'cascade-mask-rcnn_s50_fpn_syncbn-backbone+head_ms-1x_coco', 'cascade-mask-rcnn_s101_fpn_syncbn-backbone+head_ms-1x_coco', 'faster-rcnn_r50_fpn_rsb-pretrain_1x_coco', 'cascade-mask-rcnn_r50_fpn_rsb-pretrain_1x_coco', 'retinanet_r50-rsb-pre_fpn_1x_coco', 'mask-rcnn_r50_fpn_rsb-pretrain_1x_coco', 'retinanet_r18_fpn_1x_coco', 'retinanet_r18_fpn_1xb8-1x_coco', 'retinanet_r50-caffe_fpn_1x_coco', 'retinanet_r50_fpn_1x_coco', 'retinanet_r50_fpn_amp-1x_coco', 'retinanet_r50_fpn_2x_coco', 'retinanet_r50_fpn_ms-640-800-3x_coco', 'retinanet_r101-caffe_fpn_1x_coco', 'retinanet_r101-caffe_fpn_ms-3x_coco', 'retinanet_r101_fpn_1x_coco', 'retinanet_r101_fpn_2x_coco', 'retinanet_r101_fpn_ms-640-800-3x_coco', 'retinanet_x101-32x4d_fpn_1x_coco', 'retinanet_x101-32x4d_fpn_2x_coco', 'retinanet_x101-64x4d_fpn_1x_coco', 'retinanet_x101-64x4d_fpn_2x_coco', 'retinanet_x101-64x4d_fpn_ms-640-800-3x_coco', 'rpn_r50-caffe_fpn_1x_coco', 'rpn_r50_fpn_1x_coco', 'rpn_r50_fpn_2x_coco', 'rpn_r101-caffe_fpn_1x_coco', 'rpn_x101-32x4d_fpn_1x_coco', 'rpn_x101-32x4d_fpn_2x_coco', 'rpn_x101-64x4d_fpn_1x_coco', 'rpn_x101-64x4d_fpn_2x_coco', 'rtmdet_tiny_8xb32-300e_coco', 'rtmdet_s_8xb32-300e_coco', 'rtmdet_m_8xb32-300e_coco', 'rtmdet_l_8xb32-300e_coco', 'rtmdet_x_8xb32-300e_coco', 'rtmdet-ins_tiny_8xb32-300e_coco', 'rtmdet-ins_s_8xb32-300e_coco', 'rtmdet-ins_m_8xb32-300e_coco', 'rtmdet-ins_l_8xb32-300e_coco', 'rtmdet-ins_x_8xb16-300e_coco', 'sabl-faster-rcnn_r50_fpn_1x_coco', 'sabl-faster-rcnn_r101_fpn_1x_coco', 'sabl-cascade-rcnn_r50_fpn_1x_coco', 'sabl-cascade-rcnn_r101_fpn_1x_coco', 'sabl-retinanet_r50_fpn_1x_coco', 'sabl-retinanet_r50-gn_fpn_1x_coco', 'sabl-retinanet_r101_fpn_1x_coco', 'sabl-retinanet_r101-gn_fpn_1x_coco', 'sabl-retinanet_r101-gn_fpn_ms-640-800-2x_coco', 'sabl-retinanet_r101-gn_fpn_ms-480-960-2x_coco', 'scnet_r50_fpn_1x_coco', 'scnet_r50_fpn_20e_coco', 'scnet_r101_fpn_20e_coco', 'scnet_x101-64x4d_fpn_20e_coco', 'faster-rcnn_r50_fpn_gn-all_scratch_6x_coco', 'mask-rcnn_r50_fpn_gn-all_scratch_6x_coco', 'mask-rcnn_r50_fpn_random_seesaw_loss_mstrain_2x_lvis_v1', 'mask-rcnn_r50_fpn_random_seesaw_loss_normed_mask_mstrain_2x_lvis_v1', 'mask-rcnn_r101_fpn_seesaw-loss_random-ms-2x_lvis-v1', 'mask-rcnn_r101_fpn_seesaw-loss-normed-mask_random-ms-2x_lvis-v1', 'mask-rcnn_r50_fpn_sample1e-3_seesaw_loss_mstrain_2x_lvis_v1', 'mask-rcnn_r50_fpn_sample1e-3_seesaw_loss_normed_mask_mstrain_2x_lvis_v1', 'mask-rcnn_r101_fpn_seesaw-loss_sample1e-3-ms-2x_lvis-v1', 'mask-rcnn_r101_fpn_seesaw-loss-normed-mask_sample1e-3-ms-2x_lvis-v1', 'cascade-mask-rcnn_r101_fpn_seesaw-loss_random-ms-2x_lvis-v1', 'cascade-mask-rcnn_r101_fpn_seesaw-loss-normed-mask_random-ms-2x_lvis-v1', 'cascade-mask-rcnn_r101_fpn_seesaw-loss_sample1e-3-ms-2x_lvis-v1', 'cascade-mask-rcnn_r101_fpn_seesaw-loss-normed-mask_sample1e-3-ms-2x_lvis-v1', 'mask-rcnn_r50_fpn_syncbn-all_rpn-2conv_ssj_32x2_270k_coco', 'mask-rcnn_r50_fpn_syncbn-all_rpn-2conv_ssj_32x2_90k_coco', 'mask-rcnn_r50_fpn_syncbn-all_rpn-2conv_ssj_scp_32x2_270k_coco', 'mask-rcnn_r50_fpn_syncbn-all_rpn-2conv_ssj_scp_32x2_90k_coco', 'sparse-rcnn_r50_fpn_1x_coco', 'sparse-rcnn_r50_fpn_ms-480-800-3x_coco', 'sparse-rcnn_r50_fpn_300-proposals_crop-ms-480-800-3x_coco', 'sparse-rcnn_r101_fpn_ms-480-800-3x_coco', 'sparse-rcnn_r101_fpn_300-proposals_crop-ms-480-800-3x_coco', 'decoupled-solo_r50_fpn_1x_coco', 'decoupled-solo_r50_fpn_3x_coco', 'decoupled-solo-light_r50_fpn_3x_coco', 'solo_r50_fpn_3x_coco', 'solo_r50_fpn_1x_coco', 'solov2_r50_fpn_1x_coco', 'solov2_r50_fpn_ms-3x_coco', 'solov2_r101-dcn_fpn_ms-3x_coco', 'solov2_x101-dcn_fpn_ms-3x_coco', 'solov2-light_r18_fpn_ms-3x_coco', 'solov2-light_r50_fpn_ms-3x_coco', 'ssd300_coco', 'ssd512_coco', 'ssdlite_mobilenetv2-scratch_8xb24-600e_coco', 'mask-rcnn_r50-caffe_fpn_rpn-2conv_4conv1fc_syncbn-all_lsj-100e_coco', 'mask-rcnn_swin-s-p4-w7_fpn_amp-ms-crop-3x_coco', 'mask-rcnn_swin-t-p4-w7_fpn_ms-crop-3x_coco', 'mask-rcnn_swin-t-p4-w7_fpn_1x_coco', 'mask-rcnn_swin-t-p4-w7_fpn_amp-ms-crop-3x_coco', 'tridentnet_r50-caffe_1x_coco', 'tridentnet_r50-caffe_ms-1x_coco', 'tridentnet_r50-caffe_ms-3x_coco', 'tood_r101_fpn_ms-2x_coco', 'tood_x101-64x4d_fpn_ms-2x_coco', 'tood_r101-dconv-c3-c5_fpn_ms-2x_coco', 'tood_r50_fpn_anchor-based_1x_coco', 'tood_r50_fpn_1x_coco', 'tood_r50_fpn_ms-2x_coco', 'vfnet_r50_fpn_1x_coco', 'vfnet_r50_fpn_ms-2x_coco', 'vfnet_r50-mdconv-c3-c5_fpn_ms-2x_coco', 'vfnet_r101_fpn_1x_coco', 'vfnet_r101_fpn_ms-2x_coco', 'vfnet_r101-mdconv-c3-c5_fpn_ms-2x_coco', 'vfnet_x101-32x4d-mdconv-c3-c5_fpn_ms-2x_coco', 'vfnet_x101-64x4d-mdconv-c3-c5_fpn_ms-2x_coco', 'yolact_r50_1x8_coco', 'yolact_r50_8x8_coco', 'yolact_r101_1x8_coco', 'yolov3_d53_320_273e_coco', 'yolov3_d53_mstrain-416_273e_coco', 'yolov3_d53_mstrain-608_273e_coco', 'yolov3_d53_fp16_mstrain-608_273e_coco', 'yolov3_mobilenetv2_8xb24-320-300e_coco', 'yolov3_mobilenetv2_8xb24-ms-416-300e_coco', 'yolof_r50_c5_8x8_1x_coco', 'yolox_s_8x8_300e_coco', 'yolox_l_8x8_300e_coco', 'yolox_x_8x8_300e_coco', 'yolox_tiny_8x8_300e_coco']), but got {'faster_rcnn_r50_fpn_1x_coco'}\u001b[0m\n"
     ]
    }
   ],
   "source": [
    "!mim download mmdet --config faster_rcnn_r50_fpn_1x_coco --dest ./checkpoints"
   ]
  },
  {
   "cell_type": "code",
   "execution_count": null,
   "id": "e4b43333-3b22-4fca-82dc-be6ae7138ae5",
   "metadata": {},
   "outputs": [],
   "source": []
  },
  {
   "cell_type": "code",
   "execution_count": 4,
   "id": "a4748060-564a-4132-a5b9-3e7cfd847f92",
   "metadata": {
    "tags": []
   },
   "outputs": [
    {
     "name": "stdout",
     "output_type": "stream",
     "text": [
      "Traceback (most recent call last):\n",
      "  File \"/opt/conda/bin/mim\", line 8, in <module>\n",
      "    sys.exit(cli())\n",
      "  File \"/opt/conda/lib/python3.7/site-packages/click/core.py\", line 1130, in __call__\n",
      "    return self.main(*args, **kwargs)\n",
      "  File \"/opt/conda/lib/python3.7/site-packages/click/core.py\", line 1055, in main\n",
      "    rv = self.invoke(ctx)\n",
      "  File \"/opt/conda/lib/python3.7/site-packages/click/core.py\", line 1657, in invoke\n",
      "    return _process_result(sub_ctx.command.invoke(sub_ctx))\n",
      "  File \"/opt/conda/lib/python3.7/site-packages/click/core.py\", line 1404, in invoke\n",
      "    return ctx.invoke(self.callback, **ctx.params)\n",
      "  File \"/opt/conda/lib/python3.7/site-packages/click/core.py\", line 760, in invoke\n",
      "    return __callback(*args, **kwargs)\n",
      "  File \"/opt/conda/lib/python3.7/site-packages/mim/commands/download.py\", line 57, in cli\n",
      "    download(package, configs, dest_root, check_certificate)\n",
      "  File \"/opt/conda/lib/python3.7/site-packages/mim/commands/download.py\", line 101, in download\n",
      "    highlighted_error(f'Expected configs: {valid_configs}, but got '\n",
      "ValueError: \u001b[31m\u001b[1mExpected configs: dict_keys(['mask-rcnn_r50_fpn_albu-1x_coco', 'atss_r50_fpn_1x_coco', 'atss_r101_fpn_1x_coco', 'autoassign_r50-caffe_fpn_1x_coco', 'boxinst_r50_fpn_ms-90k_coco', 'boxinst_r101_fpn_ms-90k_coco', 'faster-rcnn_r50_fpn_carafe_1x_coco', 'mask-rcnn_r50_fpn_carafe_1x_coco', 'cascade-rcnn_r50-caffe_fpn_1x_coco', 'cascade-rcnn_r50_fpn_1x_coco', 'cascade-rcnn_r50_fpn_20e_coco', 'cascade-rcnn_r101-caffe_fpn_1x_coco', 'cascade-rcnn_r101_fpn_1x_coco', 'cascade-rcnn_r101_fpn_20e_coco', 'cascade-rcnn_x101-32x4d_fpn_1x_coco', 'cascade-rcnn_x101-32x4d_fpn_20e_coco', 'cascade-rcnn_x101-64x4d_fpn_1x_coco', 'cascade-rcnn_x101_64x4d_fpn_20e_coco', 'cascade-mask-rcnn_r50-caffe_fpn_1x_coco', 'cascade-mask-rcnn_r50_fpn_1x_coco', 'cascade-mask-rcnn_r50_fpn_20e_coco', 'cascade-mask-rcnn_r101-caffe_fpn_1x_coco', 'cascade-mask-rcnn_r101_fpn_1x_coco', 'cascade-mask-rcnn_r101_fpn_20e_coco', 'cascade-mask-rcnn_x101-32x4d_fpn_1x_coco', 'cascade-mask-rcnn_x101-32x4d_fpn_20e_coco', 'cascade-mask-rcnn_x101-64x4d_fpn_1x_coco', 'cascade-mask-rcnn_x101-64x4d_fpn_20e_coco', 'cascade-mask-rcnn_r50-caffe_fpn_ms-3x_coco', 'cascade-mask-rcnn_r50_fpn_mstrain_3x_coco', 'cascade-mask-rcnn_r101-caffe_fpn_ms-3x_coco', 'cascade-mask-rcnn_r101_fpn_ms-3x_coco', 'cascade-mask-rcnn_x101-32x4d_fpn_ms-3x_coco', 'cascade-mask-rcnn_x101-32x8d_fpn_ms-3x_coco', 'cascade-mask-rcnn_x101-64x4d_fpn_ms-3x_coco', 'cascade-rpn_fast-rcnn_r50-caffe_fpn_1x_coco', 'cascade-rpn_faster-rcnn_r50-caffe_fpn_1x_coco', 'centernet_r18-dcnv2_8xb16-crop512-140e_coco', 'centernet_r18_8xb16-crop512-140e_coco', 'centernet-update_r50-caffe_fpn_ms-1x_coco', 'centripetalnet_hourglass104_16xb6-crop511-210e-mstest_coco', 'condinst_r50_fpn_ms-poly-90k_coco_instance', 'conditional-detr_r50_8xb2-50e_coco.py', 'cornernet_hourglass104_10xb5-crop511-210e-mstest_coco', 'cornernet_hourglass104_8xb6-210e-mstest_coco', 'cornernet_hourglass104_32xb3-210e-mstest_coco', 'mask-rcnn_convnext-t-p4-w7_fpn_amp-ms-crop-3x_coco', 'cascade-mask-rcnn_convnext-t-p4-w7_fpn_4conv1fc-giou_amp-ms-crop-3x_coco', 'cascade-mask-rcnn_convnext-s-p4-w7_fpn_4conv1fc-giou_amp-ms-crop-3x_coco', 'crowddet-rcnn_refine_r50_fpn_8xb2-30e_crowdhuman', 'crowddet-rcnn_r50_fpn_8xb2-30e_crowdhuman', 'dab-detr_r50_8xb2-50e_coco.py', 'faster-rcnn_r50_fpn_dconv_c3-c5_1x_coco', 'faster-rcnn_r50_fpn_dpool_1x_coco', 'faster-rcnn_r101-dconv-c3-c5_fpn_1x_coco', 'faster-rcnn_x101-32x4d-dconv-c3-c5_fpn_1x_coco', 'mask-rcnn_r50_fpn_dconv_c3-c5_1x_coco', 'mask-rcnn_r50_fpn_fp16_dconv_c3-c5_1x_coco', 'mask-rcnn_r101-dconv-c3-c5_fpn_1x_coco', 'cascade-rcnn_r50_fpn_dconv_c3-c5_1x_coco', 'cascade-rcnn_r101-dconv-c3-c5_fpn_1x_coco', 'cascade-mask-rcnn_r50_fpn_dconv_c3-c5_1x_coco', 'cascade-mask-rcnn_r101-dconv-c3-c5_fpn_1x_coco', 'cascade-mask-rcnn_x101-32x4d-dconv-c3-c5_fpn_1x_coco', 'faster-rcnn_r50_fpn_mdconv_c3-c5_1x_coco', 'faster-rcnn_r50_fpn_mdconv_c3-c5_group4_1x_coco', 'faster-rcnn_r50_fpn_mdpool_1x_coco', 'mask-rcnn_r50_fpn_mdconv_c3-c5_1x_coco', 'mask-rcnn_r50_fpn_fp16_mdconv_c3-c5_1x_coco', 'ddod_r50_fpn_1x_coco', 'deformable-detr_r50_16xb2-50e_coco', 'deformable-detr_refine_r50_16xb2-50e_coco', 'deformable-detr_refine_twostage_r50_16xb2-50e_coco', 'cascade-rcnn_r50-rfp_1x_coco', 'cascade-rcnn_r50-sac_1x_coco', 'detectors_cascade-rcnn_r50_1x_coco', 'htc_r50-rfp_1x_coco', 'htc_r50-sac_1x_coco', 'detectors_htc-r50_1x_coco', 'detr_r50_8xb2-150e_coco', 'dino-4scale_r50_8xb2-12e_coco.py', 'dino-4scale_r50_8xb2-24e_coco.py', 'dino-5scale_swin-l_8xb2-12e_coco.py', 'dino-5scale_swin-l_8xb2-36e_coco.py', 'dh-faster-rcnn_r50_fpn_1x_coco', 'atss_r50-caffe_fpn_dyhead_1x_coco', 'atss_r50_fpn_dyhead_1x_coco', 'atss_swin-l-p4-w12_fpn_dyhead_ms-2x_coco', 'dynamic-rcnn_r50_fpn_1x_coco', 'retinanet_effb3_fpn_8xb4-crop896-1x_coco', 'faster-rcnn_r50_fpn_attention_1111_1x_coco', 'faster-rcnn_r50_fpn_attention_0010_1x_coco', 'faster-rcnn_r50_fpn_attention_1111_dcn_1x_coco', 'faster-rcnn_r50_fpn_attention_0010_dcn_1x_coco', 'faster-rcnn_r50-caffe-c4_1x_coco', 'faster-rcnn_r50-caffe-c4_mstrain_1x_coco', 'faster-rcnn_r50-caffe-dc5_1x_coco', 'faster-rcnn_r50-caffe_fpn_1x_coco', 'faster-rcnn_r50_fpn_1x_coco', 'faster-rcnn_r50_fpn_fp16_1x_coco', 'faster-rcnn_r50_fpn_2x_coco', 'faster-rcnn_r101-caffe_fpn_1x_coco', 'faster-rcnn_r101_fpn_1x_coco', 'faster-rcnn_r101_fpn_2x_coco', 'faster-rcnn_x101-32x4d_fpn_1x_coco', 'faster-rcnn_x101-32x4d_fpn_2x_coco', 'faster-rcnn_x101-64x4d_fpn_1x_coco', 'faster-rcnn_x101-64x4d_fpn_2x_coco', 'faster-rcnn_r50_fpn_iou_1x_coco', 'faster-rcnn_r50_fpn_giou_1x_coco', 'faster-rcnn_r50_fpn_bounded_iou_1x_coco', 'faster-rcnn_r50-caffe-dc5_mstrain_1x_coco', 'faster-rcnn_r50-caffe-dc5_mstrain_3x_coco', 'faster-rcnn_r50-caffe_fpn_ms-2x_coco', 'faster-rcnn_r50-caffe_fpn_ms-3x_coco', 'faster-rcnn_r50_fpn_mstrain_3x_coco', 'faster-rcnn_r101-caffe_fpn_ms-3x_coco', 'faster-rcnn_r101_fpn_ms-3x_coco', 'faster-rcnn_x101-32x4d_fpn_ms-3x_coco', 'faster-rcnn_x101-32x8d_fpn_ms-3x_coco', 'faster-rcnn_x101-64x4d_fpn_ms-3x_coco', 'faster-rcnn_r50_fpn_tnr-pretrain_1x_coco', 'fcos_r50-caffe_fpn_gn-head_1x_coco', 'fcos_r50-caffe_fpn_gn-head-center-normbbox-centeronreg-giou_1x_coco', 'fcos_r50-dcn-caffe_fpn_gn-head-center-normbbox-centeronreg-giou_1x_coco', 'fcos_r101-caffe_fpn_gn-head-1x_coco', 'fcos_r50-caffe_fpn_gn-head_ms-640-800-2x_coco', 'fcos_r101-caffe_fpn_gn-head_ms-640-800-2x_coco', 'fcos_x101-64x4d_fpn_gn-head_ms-640-800-2x_coco', 'fovea_r50_fpn_4xb4-1x_coco', 'fovea_r50_fpn_4xb4-2x_coco', 'fovea_r50_fpn_gn-head-align_4xb4-2x_coco', 'fovea_r50_fpn_gn-head-align_ms-640-800-4xb4-2x_coco', 'fovea_r101_fpn_4xb4-1x_coco', 'fovea_r101_fpn_4xb4-2x_coco', 'fovea_r101_fpn_gn-head-align_4xb4-2x_coco', 'fovea_r101_fpn_gn-head-align_ms-640-800-4xb4-2x_coco', 'faster-rcnn_r50_fpg_crop640-50e_coco', 'faster-rcnn_r50_fpg-chn128_crop640-50e_coco', 'mask-rcnn_r50_fpg_crop640-50e_coco', 'mask-rcnn_r50_fpg-chn128_crop640-50e_coco', 'retinanet_r50_fpg_crop640_50e_coco', 'retinanet_r50_fpg-chn128_crop640_50e_coco', 'freeanchor_r50_fpn_1x_coco', 'freeanchor_r101_fpn_1x_coco', 'freeanchor_x101-32x4d_fpn_1x_coco', 'fsaf_r50_fpn_1x_coco', 'fsaf_r101_fpn_1x_coco', 'fsaf_x101-64x4d_fpn_1x_coco', 'mask-rcnn_r50_fpn_r16_gcb_c3-c5_1x_coco', 'mask-rcnn_r50_fpn_r4_gcb_c3-c5_1x_coco', 'mask-rcnn_r101-gcb-r16-c3-c5_fpn_1x_coco', 'mask-rcnn_r101-gcb-r4-c3-c5_fpn_1x_coco', 'mask-rcnn_r50_fpn_syncbn-backbone_1x_coco', 'mask-rcnn_r50_fpn_syncbn-backbone_r16_gcb_c3-c5_1x_coco', 'mask-rcnn_r50_fpn_syncbn-backbone_r4_gcb_c3-c5_1x_coco', 'mask-rcnn_r101-syncbn_fpn_1x_coco', 'mask-rcnn_r101-syncbn-gcb-r16-c3-c5_fpn_1x_coco', 'mask-rcnn_r101-syncbn-gcb-r4-c3-c5_fpn_1x_coco', 'mask-rcnn_x101-32x4d-syncbn_fpn_1x_coco', 'mask-rcnn_x101-32x4d-syncbn-gcb-r16-c3-c5_fpn_1x_coco', 'mask-rcnn_x101-32x4d-syncbn-gcb-r4-c3-c5_fpn_1x_coco', 'cascade-mask-rcnn_x101-32x4d-syncbn_fpn_1x_coco', 'cascade-mask-rcnn_x101-32x4d-syncbn-r16-gcb-c3-c5_fpn_1x_coco', 'cascade-mask-rcnn_x101-32x4d-syncbn-r4-gcb-c3-c5_fpn_1x_coco', 'cascade-mask-rcnn_x101-32x4d-syncbn-dconv-c3-c5_fpn_1x_coco', 'cascade-mask-rcnn_x101-32x4d-syncbn-dconv-c3-c5-r16-gcb-c3-c5_fpn_1x_coco', 'cascade-mask-rcnn_x101-32x4d-syncbn-dconv-c3-c5-r4-gcb-c3-c5_fpn_1x_coco', 'gfl_r50_fpn_1x_coco', 'gfl_r50_fpn_ms-2x_coco', 'gfl_r101_fpn_ms-2x_coco', 'gfl_r101-dconv-c3-c5_fpn_ms-2x_coco', 'gfl_x101-32x4d_fpn_ms-2x_coco', 'gfl_x101-32x4d-dconv-c4-c5_fpn_ms-2x_coco', 'retinanet_r50_fpn_ghm-1x_coco', 'retinanet_r101_fpn_ghm-1x_coco', 'retinanet_x101-32x4d_fpn_ghm-1x_coco', 'retinanet_x101-64x4d_fpn_ghm-1x_coco', 'mask-rcnn_r50_fpn_gn-all_2x_coco', 'mask-rcnn_r50_fpn_gn-all_3x_coco', 'mask-rcnn_r101_fpn_gn-all_2x_coco', 'mask-rcnn_r101_fpn_gn-all_3x_coco', 'mask-rcnn_r50_fpn_gn-all_contrib_2x_coco', 'mask-rcnn_r50_fpn_gn-all_contrib_3x_coco', 'faster-rcnn_r50_fpn_gn_ws-all_1x_coco', 'faster-rcnn_r101_fpn_gn-ws-all_1x_coco', 'faster-rcnn_x50-32x4d_fpn_gn-ws-all_1x_coco', 'faster-rcnn_x101-32x4d_fpn_gn-ws-all_1x_coco', 'mask-rcnn_r50_fpn_gn_ws-all_2x_coco', 'mask-rcnn_r101_fpn_gn-ws-all_2x_coco', 'mask-rcnn_x50-32x4d_fpn_gn-ws-all_2x_coco', 'mask-rcnn_x101-32x4d_fpn_gn-ws-all_2x_coco', 'mask-rcnn_r50_fpn_gn_ws-all_20_23_24e_coco', 'mask-rcnn_r101_fpn_gn-ws-all_20-23-24e_coco', 'mask-rcnn_x50-32x4d_fpn_gn-ws-all_20-23-24e_coco', 'mask-rcnn_x101-32x4d_fpn_gn-ws-all_20-23-24e_coco', 'grid-rcnn_r50_fpn_gn-head_2x_coco', 'grid-rcnn_r101_fpn_gn-head_2x_coco', 'grid-rcnn_x101-32x4d_fpn_gn-head_2x_coco', 'grid-rcnn_x101-64x4d_fpn_gn-head_2x_coco', 'faster-rcnn_r50_fpn_groie_1x_coco', 'grid-rcnn_r50_fpn_gn-head-groie_1x_coco', 'mask-rcnn_r50_fpn_groie_1x_coco', 'mask-rcnn_r50_fpn_syncbn-backbone_r4_gcb_c3-c5_groie_1x_coco', 'mask-rcnn_r101_fpn_syncbn-r4-gcb_c3-c5-groie_1x_coco', 'ga-rpn_r50-caffe_fpn_1x_coco', 'ga-rpn_r101-caffe_fpn_1x_coco', 'ga-rpn_x101-32x4d_fpn_1x_coco', 'ga-rpn_x101-64x4d_fpn_1x_coco', 'ga-faster-rcnn_r50-caffe_fpn_1x_coco', 'ga-faster-rcnn_r101-caffe_fpn_1x_coco', 'ga-faster-rcnn_x101-32x4d_fpn_1x_coco', 'ga-faster-rcnn_x101-64x4d_fpn_1x_coco', 'ga-retinanet_r50-caffe_fpn_1x_coco', 'ga-retinanet_r101-caffe_fpn_1x_coco', 'ga-retinanet_x101-32x4d_fpn_1x_coco', 'ga-retinanet_x101-64x4d_fpn_1x_coco', 'faster-rcnn_hrnetv2p-w18-1x_coco', 'faster-rcnn_hrnetv2p-w18-2x_coco', 'faster-rcnn_hrnetv2p-w32-1x_coco', 'faster-rcnn_hrnetv2p-w32_2x_coco', 'faster-rcnn_hrnetv2p-w40-1x_coco', 'faster-rcnn_hrnetv2p-w40_2x_coco', 'mask-rcnn_hrnetv2p-w18-1x_coco', 'mask-rcnn_hrnetv2p-w18-2x_coco', 'mask-rcnn_hrnetv2p-w32-1x_coco', 'mask-rcnn_hrnetv2p-w32-2x_coco', 'mask-rcnn_hrnetv2p-w40_1x_coco', 'mask-rcnn_hrnetv2p-w40-2x_coco', 'cascade-rcnn_hrnetv2p-w18-20e_coco', 'cascade-rcnn_hrnetv2p-w32-20e_coco', 'cascade-rcnn_hrnetv2p-w40-20e_coco', 'cascade-mask-rcnn_hrnetv2p-w18_20e_coco', 'cascade-mask-rcnn_hrnetv2p-w32_20e_coco', 'cascade-mask-rcnn_hrnetv2p-w40-20e_coco', 'htc_hrnetv2p-w18_20e_coco', 'htc_hrnetv2p-w32_20e_coco', 'htc_hrnetv2p-w40_20e_coco', 'fcos_hrnetv2p-w18-gn-head_4xb4-1x_coco', 'fcos_hrnetv2p-w18-gn-head_4xb4-2x_coco', 'fcos_hrnetv2p-w32-gn-head_4xb4-1x_coco', 'fcos_hrnetv2p-w32-gn-head_4xb4-2x_coco', 'fcos_hrnetv2p-w18-gn-head_ms-640-800-4xb4-2x_coco', 'fcos_hrnetv2p-w32-gn-head_ms-640-800-4xb4-2x_coco', 'fcos_hrnetv2p-w40-gn-head_ms-640-800-4xb4-2x_coco', 'htc_r50_fpn_1x_coco', 'htc_r50_fpn_20e_coco', 'htc_r101_fpn_20e_coco', 'htc_x101-32x4d_fpn_16xb1-20e_coco', 'htc_x101-64x4d_fpn_16xb1-20e_coco', 'htc_x101-64x4d-dconv-c3-c5_fpn_ms-400-1400-16xb1-20e_coco', 'mask-rcnn_r50_fpn_instaboost_4x_coco', 'mask-rcnn_r101_fpn_instaboost-4x_coco', 'mask-rcnn_x101-64x4d_fpn_instaboost-4x_coco', 'cascade-mask-rcnn_r50_fpn_instaboost_4x_coco', 'lad_r101-paa-r50_fpn_2xb8_coco_1x', 'lad_r50-paa-r101_fpn_2xb8_coco_1x', 'ld_r18-gflv1-r101_fpn_1x_coco', 'ld_r34-gflv1-r101_fpn_1x_coco', 'ld_r50-gflv1-r101_fpn_1x_coco', 'ld_r101-gflv1-r101-dcn_fpn_2x_coco', 'libra-faster-rcnn_r50_fpn_1x_coco', 'libra-faster-rcnn_r101_fpn_1x_coco', 'libra-faster-rcnn_x101-64x4d_fpn_1x_coco', 'libra-retinanet_r50_fpn_1x_coco', 'mask-rcnn_r50_fpn_sample1e-3_ms-2x_lvis-v0.5', 'mask-rcnn_r101_fpn_sample1e-3_ms-2x_lvis-v0.5', 'mask-rcnn_x101-32x4d_fpn_sample1e-3_ms-2x_lvis-v0.5', 'mask-rcnn_x101-64x4d_fpn_sample1e-3_ms-2x_lvis-v0.5', 'mask-rcnn_r50_fpn_sample1e-3_ms-1x_lvis-v1', 'mask-rcnn_r101_fpn_sample1e-3_ms-1x_lvis-v1', 'mask-rcnn_x101-32x4d_fpn_sample1e-3_ms-1x_lvis-v1', 'mask-rcnn_x101-64x4d_fpn_sample1e-3_ms-1x_lvis-v1', 'mask2former_swin-s-p4-w7-224_8xb2-lsj-50e_coco-panoptic', 'mask2former_r101_8xb2-lsj-50e_coco', 'mask2former_r101_8xb2-lsj-50e_coco-panoptic', 'mask2former_r50_8xb2-lsj-50e_coco-panoptic', 'mask2former_swin-t-p4-w7-224_8xb2-lsj-50e_coco-panoptic', 'mask2former_r50_8xb2-lsj-50e_coco', 'mask2former_swin-l-p4-w12-384-in21k_16xb1-lsj-100e_coco-panoptic', 'mask2former_swin-b-p4-w12-384-in21k_8xb2-lsj-50e_coco-panoptic', 'mask2former_swin-b-p4-w12-384_8xb2-lsj-50e_coco-panoptic', 'mask2former_swin-t-p4-w7-224_8xb2-lsj-50e_coco', 'mask2former_swin-s-p4-w7-224_8xb2-lsj-50e_coco', 'mask-rcnn_r50-caffe_fpn_1x_coco', 'mask-rcnn_r50_fpn_1x_coco', 'mask-rcnn_r50_fpn_fp16_1x_coco', 'mask-rcnn_r50_fpn_2x_coco', 'mask-rcnn_r101-caffe_fpn_1x_coco', 'mask-rcnn_r101_fpn_1x_coco', 'mask-rcnn_r101_fpn_2x_coco', 'mask-rcnn_x101-32x4d_fpn_1x_coco', 'mask-rcnn_x101-32x4d_fpn_2x_coco', 'mask-rcnn_x101-64x4d_fpn_1x_coco', 'mask-rcnn_x101-64x4d_fpn_2x_coco', 'mask-rcnn_x101-32x8d_fpn_1x_coco', 'mask-rcnn_r50-caffe_fpn_ms-poly-2x_coco', 'mask-rcnn_r50-caffe_fpn_ms-poly-3x_coco', 'mask-rcnn_r50_fpn_mstrain-poly_3x_coco', 'mask-rcnn_r101_fpn_ms-poly-3x_coco', 'mask-rcnn_r101-caffe_fpn_ms-poly-3x_coco', 'mask-rcnn_x101-32x4d_fpn_ms-poly-3x_coco', 'mask-rcnn_x101-32x8d_fpn_ms-poly-1x_coco', 'mask-rcnn_x101-32x8d_fpn_ms-poly-3x_coco', 'mask-rcnn_x101-64x4d_fpn_ms-poly_3x_coco', 'maskformer_r50_ms-16xb1-75e_coco', 'maskformer_swin-l-p4-w12_64xb1-ms-300e_coco', 'ms-rcnn_r50-caffe_fpn_1x_coco', 'ms-rcnn_r50-caffe_fpn_2x_coco', 'ms-rcnn_r101-caffe_fpn_1x_coco', 'ms-rcnn_r101-caffe_fpn_2x_coco', 'ms-rcnn_x101-32x4d_fpn_1x_coco', 'ms-rcnn_x101-64x4d_fpn_1x_coco', 'ms-rcnn_x101-64x4d_fpn_2x_coco', 'nas-fcos_r50-caffe_fpn_nashead-gn-head_4xb4-1x_coco', 'nas-fcos_r50-caffe_fpn_fcoshead-gn-head_4xb4-1x_coco', 'retinanet_r50_fpn_crop640-50e_coco', 'retinanet_r50_nasfpn_crop640-50e_coco', 'faster-rcnn_r50_fpn_32x2_1x_openimages', 'retinanet_r50_fpn_32xb2-1x_openimages', 'ssd300_32xb8-36e_openimages', 'faster-rcnn_r50_fpn_32x2_1x_openimages_challenge', 'faster-rcnn_r50_fpn_32x2_cas_1x_openimages', 'faster-rcnn_r50_fpn_32x2_cas_1x_openimages_challenge', 'paa_r50_fpn_1x_coco', 'paa_r50_fpn_1.5x_coco', 'paa_r50_fpn_2x_coco', 'paa_r50_fpn_mstrain_3x_coco', 'paa_r101_fpn_1x_coco', 'paa_r101_fpn_2x_coco', 'paa_r101_fpn_mstrain_3x_coco', 'faster-rcnn_r50_pafpn_1x_coco', 'panoptic_fpn_r50_fpn_1x_coco', 'panoptic_fpn_r50_fpn_mstrain_3x_coco', 'panoptic_fpn_r101_fpn_1x_coco', 'panoptic_fpn_r101_fpn_mstrain_3x_coco', 'retinanet_pvt-t_fpn_1x_coco', 'retinanet_pvt-s_fpn_1x_coco', 'retinanet_pvt-m_fpn_1x_coco', 'retinanet_pvtv2-b0_fpn_1x_coco', 'retinanet_pvtv2-b1_fpn_1x_coco', 'retinanet_pvtv2-b2_fpn_1x_coco', 'retinanet_pvtv2-b3_fpn_1x_coco', 'retinanet_pvtv2-b4_fpn_1x_coco', 'retinanet_pvtv2-b5_fpn_1x_coco', 'pisa_faster_rcnn_r50_fpn_1x_coco', 'pisa_faster_rcnn_x101_32x4d_fpn_1x_coco', 'pisa_mask_rcnn_r50_fpn_1x_coco', 'pisa_retinanet_r50_fpn_1x_coco', 'pisa_retinanet_x101_32x4d_fpn_1x_coco', 'pisa_ssd300_coco', 'pisa_ssd512_coco', 'point_rend_r50_caffe_fpn_mstrain_1x_coco', 'point_rend_r50_caffe_fpn_mstrain_3x_coco', 'queryinst_r50_fpn_1x_coco', 'queryinst_r50_fpn_ms-480-800-3x_coco', 'queryinst_r50_fpn_300-proposals_crop-ms-480-800-3x_coco', 'queryinst_r101_fpn_ms-480-800-3x_coco', 'queryinst_r101_fpn_300-proposals_crop-ms-480-800-3x_coco', 'mask-rcnn_regnetx-3.2GF_fpn_1x_coco', 'mask-rcnn_regnetx-4GF_fpn_1x_coco', 'mask-rcnn_regnetx-6.4GF_fpn_1x_coco', 'mask-rcnn_regnetx-8GF_fpn_1x_coco', 'mask-rcnn_regnetx-12GF_fpn_1x_coco', 'mask-rcnn_regnetx-3.2GF-mdconv-c3-c5_fpn_1x_coco', 'faster-rcnn_regnetx-3.2GF_fpn_1x_coco', 'faster-rcnn_regnetx-3.2GF_fpn_2x_coco', 'retinanet_regnetx-800MF_fpn_1x_coco', 'retinanet_regnetx-1.6GF_fpn_1x_coco', 'retinanet_regnetx-3.2GF_fpn_1x_coco', 'faster-rcnn_regnetx-400MF_fpn_ms-3x_coco', 'faster-rcnn_regnetx-800MF_fpn_ms-3x_coco', 'faster-rcnn_regnetx-1.6GF_fpn_ms-3x_coco', 'faster-rcnn_regnetx-3.2GF_fpn_ms-3x_coco', 'faster-rcnn_regnetx-4GF_fpn_ms-3x_coco', 'mask-rcnn_regnetx-3.2GF_fpn_ms-3x_coco', 'mask-rcnn_regnetx-400MF_fpn_ms-poly-3x_coco', 'mask-rcnn_regnetx-800MF_fpn_ms-poly-3x_coco', 'mask-rcnn_regnetx-1.6GF_fpn_ms-poly-3x_coco', 'mask-rcnn_regnetx-4GF_fpn_ms-poly-3x_coco', 'cascade-mask-rcnn_regnetx-400MF_fpn_ms-3x_coco', 'cascade-mask-rcnn_regnetx-800MF_fpn_ms-3x_coco', 'cascade-mask-rcnn_regnetx-1.6GF_fpn_ms-3x_coco', 'cascade-mask-rcnn_regnetx-3.2GF_fpn_ms-3x_coco', 'cascade-mask-rcnn_regnetx-4GF_fpn_ms-3x_coco', 'reppoints-bbox_r50_fpn-gn_head-gn-grid_1x_coco', 'reppoints-bbox_r50-center_fpn-gn_head-gn-grid_1x_coco', 'reppoints-moment_r50_fpn_1x_coco', 'reppoints-moment_r50_fpn-gn_head-gn_1x_coco', 'reppoints-moment_r50_fpn-gn_head-gn_2x_coco', 'reppoints-moment_r101_fpn-gn_head-gn_2x_coco', 'reppoints-moment_r101-dconv-c3-c5_fpn-gn_head-gn_2x_coco', 'reppoints-moment_x101-dconv-c3-c5_fpn-gn_head-gn_2x_coco', 'faster-rcnn_res2net-101_fpn_2x_coco', 'mask-rcnn_res2net-101_fpn_2x_coco', 'cascade-rcnn_res2net-101_fpn_20e_coco', 'cascade-mask-rcnn_res2net-101_fpn_20e_coco', 'htc_res2net-101_fpn_20e_coco', 'faster-rcnn_s50_fpn_syncbn-backbone+head_ms-range-1x_coco', 'faster-rcnn_s101_fpn_syncbn-backbone+head_ms-range-1x_coco', 'mask-rcnn_s50_fpn_syncbn-backbone+head_ms-1x_coco', 'mask-rcnn_s101_fpn_syncbn-backbone+head_ms-1x_coco', 'cascade-rcnn_s50_fpn_syncbn-backbone+head_ms-range-1x_coco', 'cascade-rcnn_s101_fpn_syncbn-backbone+head_ms-range-1x_coco', 'cascade-mask-rcnn_s50_fpn_syncbn-backbone+head_ms-1x_coco', 'cascade-mask-rcnn_s101_fpn_syncbn-backbone+head_ms-1x_coco', 'faster-rcnn_r50_fpn_rsb-pretrain_1x_coco', 'cascade-mask-rcnn_r50_fpn_rsb-pretrain_1x_coco', 'retinanet_r50-rsb-pre_fpn_1x_coco', 'mask-rcnn_r50_fpn_rsb-pretrain_1x_coco', 'retinanet_r18_fpn_1x_coco', 'retinanet_r18_fpn_1xb8-1x_coco', 'retinanet_r50-caffe_fpn_1x_coco', 'retinanet_r50_fpn_1x_coco', 'retinanet_r50_fpn_amp-1x_coco', 'retinanet_r50_fpn_2x_coco', 'retinanet_r50_fpn_ms-640-800-3x_coco', 'retinanet_r101-caffe_fpn_1x_coco', 'retinanet_r101-caffe_fpn_ms-3x_coco', 'retinanet_r101_fpn_1x_coco', 'retinanet_r101_fpn_2x_coco', 'retinanet_r101_fpn_ms-640-800-3x_coco', 'retinanet_x101-32x4d_fpn_1x_coco', 'retinanet_x101-32x4d_fpn_2x_coco', 'retinanet_x101-64x4d_fpn_1x_coco', 'retinanet_x101-64x4d_fpn_2x_coco', 'retinanet_x101-64x4d_fpn_ms-640-800-3x_coco', 'rpn_r50-caffe_fpn_1x_coco', 'rpn_r50_fpn_1x_coco', 'rpn_r50_fpn_2x_coco', 'rpn_r101-caffe_fpn_1x_coco', 'rpn_x101-32x4d_fpn_1x_coco', 'rpn_x101-32x4d_fpn_2x_coco', 'rpn_x101-64x4d_fpn_1x_coco', 'rpn_x101-64x4d_fpn_2x_coco', 'rtmdet_tiny_8xb32-300e_coco', 'rtmdet_s_8xb32-300e_coco', 'rtmdet_m_8xb32-300e_coco', 'rtmdet_l_8xb32-300e_coco', 'rtmdet_x_8xb32-300e_coco', 'rtmdet-ins_tiny_8xb32-300e_coco', 'rtmdet-ins_s_8xb32-300e_coco', 'rtmdet-ins_m_8xb32-300e_coco', 'rtmdet-ins_l_8xb32-300e_coco', 'rtmdet-ins_x_8xb16-300e_coco', 'sabl-faster-rcnn_r50_fpn_1x_coco', 'sabl-faster-rcnn_r101_fpn_1x_coco', 'sabl-cascade-rcnn_r50_fpn_1x_coco', 'sabl-cascade-rcnn_r101_fpn_1x_coco', 'sabl-retinanet_r50_fpn_1x_coco', 'sabl-retinanet_r50-gn_fpn_1x_coco', 'sabl-retinanet_r101_fpn_1x_coco', 'sabl-retinanet_r101-gn_fpn_1x_coco', 'sabl-retinanet_r101-gn_fpn_ms-640-800-2x_coco', 'sabl-retinanet_r101-gn_fpn_ms-480-960-2x_coco', 'scnet_r50_fpn_1x_coco', 'scnet_r50_fpn_20e_coco', 'scnet_r101_fpn_20e_coco', 'scnet_x101-64x4d_fpn_20e_coco', 'faster-rcnn_r50_fpn_gn-all_scratch_6x_coco', 'mask-rcnn_r50_fpn_gn-all_scratch_6x_coco', 'mask-rcnn_r50_fpn_random_seesaw_loss_mstrain_2x_lvis_v1', 'mask-rcnn_r50_fpn_random_seesaw_loss_normed_mask_mstrain_2x_lvis_v1', 'mask-rcnn_r101_fpn_seesaw-loss_random-ms-2x_lvis-v1', 'mask-rcnn_r101_fpn_seesaw-loss-normed-mask_random-ms-2x_lvis-v1', 'mask-rcnn_r50_fpn_sample1e-3_seesaw_loss_mstrain_2x_lvis_v1', 'mask-rcnn_r50_fpn_sample1e-3_seesaw_loss_normed_mask_mstrain_2x_lvis_v1', 'mask-rcnn_r101_fpn_seesaw-loss_sample1e-3-ms-2x_lvis-v1', 'mask-rcnn_r101_fpn_seesaw-loss-normed-mask_sample1e-3-ms-2x_lvis-v1', 'cascade-mask-rcnn_r101_fpn_seesaw-loss_random-ms-2x_lvis-v1', 'cascade-mask-rcnn_r101_fpn_seesaw-loss-normed-mask_random-ms-2x_lvis-v1', 'cascade-mask-rcnn_r101_fpn_seesaw-loss_sample1e-3-ms-2x_lvis-v1', 'cascade-mask-rcnn_r101_fpn_seesaw-loss-normed-mask_sample1e-3-ms-2x_lvis-v1', 'mask-rcnn_r50_fpn_syncbn-all_rpn-2conv_ssj_32x2_270k_coco', 'mask-rcnn_r50_fpn_syncbn-all_rpn-2conv_ssj_32x2_90k_coco', 'mask-rcnn_r50_fpn_syncbn-all_rpn-2conv_ssj_scp_32x2_270k_coco', 'mask-rcnn_r50_fpn_syncbn-all_rpn-2conv_ssj_scp_32x2_90k_coco', 'sparse-rcnn_r50_fpn_1x_coco', 'sparse-rcnn_r50_fpn_ms-480-800-3x_coco', 'sparse-rcnn_r50_fpn_300-proposals_crop-ms-480-800-3x_coco', 'sparse-rcnn_r101_fpn_ms-480-800-3x_coco', 'sparse-rcnn_r101_fpn_300-proposals_crop-ms-480-800-3x_coco', 'decoupled-solo_r50_fpn_1x_coco', 'decoupled-solo_r50_fpn_3x_coco', 'decoupled-solo-light_r50_fpn_3x_coco', 'solo_r50_fpn_3x_coco', 'solo_r50_fpn_1x_coco', 'solov2_r50_fpn_1x_coco', 'solov2_r50_fpn_ms-3x_coco', 'solov2_r101-dcn_fpn_ms-3x_coco', 'solov2_x101-dcn_fpn_ms-3x_coco', 'solov2-light_r18_fpn_ms-3x_coco', 'solov2-light_r50_fpn_ms-3x_coco', 'ssd300_coco', 'ssd512_coco', 'ssdlite_mobilenetv2-scratch_8xb24-600e_coco', 'mask-rcnn_r50-caffe_fpn_rpn-2conv_4conv1fc_syncbn-all_lsj-100e_coco', 'mask-rcnn_swin-s-p4-w7_fpn_amp-ms-crop-3x_coco', 'mask-rcnn_swin-t-p4-w7_fpn_ms-crop-3x_coco', 'mask-rcnn_swin-t-p4-w7_fpn_1x_coco', 'mask-rcnn_swin-t-p4-w7_fpn_amp-ms-crop-3x_coco', 'tridentnet_r50-caffe_1x_coco', 'tridentnet_r50-caffe_ms-1x_coco', 'tridentnet_r50-caffe_ms-3x_coco', 'tood_r101_fpn_ms-2x_coco', 'tood_x101-64x4d_fpn_ms-2x_coco', 'tood_r101-dconv-c3-c5_fpn_ms-2x_coco', 'tood_r50_fpn_anchor-based_1x_coco', 'tood_r50_fpn_1x_coco', 'tood_r50_fpn_ms-2x_coco', 'vfnet_r50_fpn_1x_coco', 'vfnet_r50_fpn_ms-2x_coco', 'vfnet_r50-mdconv-c3-c5_fpn_ms-2x_coco', 'vfnet_r101_fpn_1x_coco', 'vfnet_r101_fpn_ms-2x_coco', 'vfnet_r101-mdconv-c3-c5_fpn_ms-2x_coco', 'vfnet_x101-32x4d-mdconv-c3-c5_fpn_ms-2x_coco', 'vfnet_x101-64x4d-mdconv-c3-c5_fpn_ms-2x_coco', 'yolact_r50_1x8_coco', 'yolact_r50_8x8_coco', 'yolact_r101_1x8_coco', 'yolov3_d53_320_273e_coco', 'yolov3_d53_mstrain-416_273e_coco', 'yolov3_d53_mstrain-608_273e_coco', 'yolov3_d53_fp16_mstrain-608_273e_coco', 'yolov3_mobilenetv2_8xb24-320-300e_coco', 'yolov3_mobilenetv2_8xb24-ms-416-300e_coco', 'yolof_r50_c5_8x8_1x_coco', 'yolox_s_8x8_300e_coco', 'yolox_l_8x8_300e_coco', 'yolox_x_8x8_300e_coco', 'yolox_tiny_8x8_300e_coco']), but got {'mask_rcnn_r50_caffe_fpn_mstrain-poly_3x_coco'}\u001b[0m\n"
     ]
    }
   ],
   "source": [
    "!mim download mmdet --config mask_rcnn_r50_caffe_fpn_mstrain-poly_3x_coco --dest ./checkpoints\n"
   ]
  },
  {
   "cell_type": "code",
   "execution_count": 4,
   "id": "75a624a0-6121-4ceb-bd5b-6ce666548e93",
   "metadata": {
    "tags": []
   },
   "outputs": [
    {
     "name": "stdout",
     "output_type": "stream",
     "text": [
      "ls: cannot access 'configs': No such file or directory\n"
     ]
    }
   ],
   "source": [
    "!ls configs"
   ]
  },
  {
   "cell_type": "code",
   "execution_count": 5,
   "id": "22c859d1-bb20-47db-985b-85f3df353e6b",
   "metadata": {
    "tags": []
   },
   "outputs": [
    {
     "name": "stdout",
     "output_type": "stream",
     "text": [
      "Untitled.ipynb\tcheckpoints\n"
     ]
    }
   ],
   "source": [
    "!ls"
   ]
  },
  {
   "cell_type": "code",
   "execution_count": 6,
   "id": "ebf2cb60-69d1-4891-8497-3fed3b20bd51",
   "metadata": {
    "tags": []
   },
   "outputs": [
    {
     "name": "stdout",
     "output_type": "stream",
     "text": [
      "bin   dev  home  lib64\tmmdetection  notebook  proc  run   srv\ttmp  var\n",
      "boot  etc  lib\t media\tmnt\t     opt       root  sbin  sys\tusr  workspace\n"
     ]
    }
   ],
   "source": [
    "!ls ../"
   ]
  },
  {
   "cell_type": "code",
   "execution_count": 7,
   "id": "a23b830f-59f4-42e0-aeb6-cf044b3bf64c",
   "metadata": {
    "tags": []
   },
   "outputs": [
    {
     "name": "stdout",
     "output_type": "stream",
     "text": [
      "CITATION.cff\t configs  mmdet.egg-info   requirements.txt  tools\n",
      "LICENSE\t\t demo\t  model-index.yml  resources\n",
      "MANIFEST.in\t docker   projects\t   setup.cfg\n",
      "README.md\t docs\t  pytest.ini\t   setup.py\n",
      "README_zh-CN.md  mmdet\t  requirements\t   tests\n"
     ]
    }
   ],
   "source": [
    "!ls ../mmdetection"
   ]
  },
  {
   "cell_type": "code",
   "execution_count": 10,
   "id": "ba8c8369-0340-402b-bc60-a090ae087a40",
   "metadata": {
    "tags": []
   },
   "outputs": [
    {
     "name": "stdout",
     "output_type": "stream",
     "text": [
      "--2023-05-24 09:54:44--  https://download.openmmlab.com/mmdetection/v2.0/mask_rcnn/mask_rcnn_r50_caffe_fpn_1x_coco/mask_rcnn_r50_caffe_fpn_1x_coco_bbox_mAP-0.38__segm_mAP-0.344_20200504_231812-0ebd1859.pth\n",
      "Resolving download.openmmlab.com (download.openmmlab.com)... 163.181.39.208, 163.181.39.207, 163.181.39.209, ...\n",
      "Connecting to download.openmmlab.com (download.openmmlab.com)|163.181.39.208|:443... connected.\n",
      "HTTP request sent, awaiting response... 200 OK\n",
      "Length: 177866833 (170M) [application/octet-stream]\n",
      "Saving to: ‘checkpoints/mask_rcnn_r50_caffe_fpn_1x_coco_bbox_mAP-0.38__segm_mAP-0.344_20200504_231812-0ebd1859.pth’\n",
      "\n",
      "checkpoints/mask_rc 100%[===================>] 169.63M  1.56MB/s    in 4m 6s   \n",
      "\n",
      "2023-05-24 09:58:49 (707 KB/s) - ‘checkpoints/mask_rcnn_r50_caffe_fpn_1x_coco_bbox_mAP-0.38__segm_mAP-0.344_20200504_231812-0ebd1859.pth’ saved [177866833/177866833]\n",
      "\n"
     ]
    }
   ],
   "source": [
    "!wget -c https://download.openmmlab.com/mmdetection/v2.0/mask_rcnn/mask_rcnn_r50_caffe_fpn_1x_coco/mask_rcnn_r50_caffe_fpn_1x_coco_bbox_mAP-0.38__segm_mAP-0.344_20200504_231812-0ebd1859.pth \\\n",
    "      -O checkpoints/mask_rcnn_r50_caffe_fpn_1x_coco_bbox_mAP-0.38__segm_mAP-0.344_20200504_231812-0ebd1859.pth"
   ]
  },
  {
   "cell_type": "code",
   "execution_count": 14,
   "id": "a5b0ffe7-153c-489c-b501-1271c098a654",
   "metadata": {
    "tags": []
   },
   "outputs": [
    {
     "name": "stdout",
     "output_type": "stream",
     "text": [
      "Loads checkpoint by local backend from path: checkpoints/mask_rcnn_r50_caffe_fpn_1x_coco_bbox_mAP-0.38__segm_mAP-0.344_20200504_231812-0ebd1859.pth\n"
     ]
    },
    {
     "ename": "RuntimeError",
     "evalue": "Found no NVIDIA driver on your system. Please check that you have an NVIDIA GPU and installed a driver from http://www.nvidia.com/Download/index.aspx",
     "output_type": "error",
     "traceback": [
      "\u001b[0;31m---------------------------------------------------------------------------\u001b[0m",
      "\u001b[0;31mRuntimeError\u001b[0m                              Traceback (most recent call last)",
      "\u001b[0;32m/tmp/ipykernel_17/4273506582.py\u001b[0m in \u001b[0;36m<module>\u001b[0;34m\u001b[0m\n\u001b[1;32m      2\u001b[0m \u001b[0mconfig\u001b[0m \u001b[0;34m=\u001b[0m \u001b[0;34m'/mmdetection/configs/mask_rcnn/mask-rcnn_r50-caffe_fpn_1x_coco.py'\u001b[0m\u001b[0;34m\u001b[0m\u001b[0;34m\u001b[0m\u001b[0m\n\u001b[1;32m      3\u001b[0m \u001b[0mcheckpoint\u001b[0m \u001b[0;34m=\u001b[0m \u001b[0;34m'checkpoints/mask_rcnn_r50_caffe_fpn_1x_coco_bbox_mAP-0.38__segm_mAP-0.344_20200504_231812-0ebd1859.pth'\u001b[0m\u001b[0;34m\u001b[0m\u001b[0;34m\u001b[0m\u001b[0m\n\u001b[0;32m----> 4\u001b[0;31m \u001b[0mmodel\u001b[0m \u001b[0;34m=\u001b[0m \u001b[0minit_detector\u001b[0m\u001b[0;34m(\u001b[0m\u001b[0mconfig\u001b[0m\u001b[0;34m,\u001b[0m \u001b[0mcheckpoint\u001b[0m\u001b[0;34m,\u001b[0m \u001b[0mdevice\u001b[0m\u001b[0;34m=\u001b[0m\u001b[0;34m'cuda:0'\u001b[0m\u001b[0;34m)\u001b[0m\u001b[0;34m\u001b[0m\u001b[0;34m\u001b[0m\u001b[0m\n\u001b[0m",
      "\u001b[0;32m/mmdetection/mmdet/apis/inference.py\u001b[0m in \u001b[0;36minit_detector\u001b[0;34m(config, checkpoint, palette, device, cfg_options)\u001b[0m\n\u001b[1;32m    107\u001b[0m \u001b[0;34m\u001b[0m\u001b[0m\n\u001b[1;32m    108\u001b[0m     \u001b[0mmodel\u001b[0m\u001b[0;34m.\u001b[0m\u001b[0mcfg\u001b[0m \u001b[0;34m=\u001b[0m \u001b[0mconfig\u001b[0m  \u001b[0;31m# save the config in the model for convenience\u001b[0m\u001b[0;34m\u001b[0m\u001b[0;34m\u001b[0m\u001b[0m\n\u001b[0;32m--> 109\u001b[0;31m     \u001b[0mmodel\u001b[0m\u001b[0;34m.\u001b[0m\u001b[0mto\u001b[0m\u001b[0;34m(\u001b[0m\u001b[0mdevice\u001b[0m\u001b[0;34m)\u001b[0m\u001b[0;34m\u001b[0m\u001b[0;34m\u001b[0m\u001b[0m\n\u001b[0m\u001b[1;32m    110\u001b[0m     \u001b[0mmodel\u001b[0m\u001b[0;34m.\u001b[0m\u001b[0meval\u001b[0m\u001b[0;34m(\u001b[0m\u001b[0;34m)\u001b[0m\u001b[0;34m\u001b[0m\u001b[0;34m\u001b[0m\u001b[0m\n\u001b[1;32m    111\u001b[0m     \u001b[0;32mreturn\u001b[0m \u001b[0mmodel\u001b[0m\u001b[0;34m\u001b[0m\u001b[0;34m\u001b[0m\u001b[0m\n",
      "\u001b[0;32m/opt/conda/lib/python3.7/site-packages/mmengine/model/base_model/base_model.py\u001b[0m in \u001b[0;36mto\u001b[0;34m(self, *args, **kwargs)\u001b[0m\n\u001b[1;32m    200\u001b[0m         \u001b[0;32mif\u001b[0m \u001b[0mdevice\u001b[0m \u001b[0;32mis\u001b[0m \u001b[0;32mnot\u001b[0m \u001b[0;32mNone\u001b[0m\u001b[0;34m:\u001b[0m\u001b[0;34m\u001b[0m\u001b[0;34m\u001b[0m\u001b[0m\n\u001b[1;32m    201\u001b[0m             \u001b[0mself\u001b[0m\u001b[0;34m.\u001b[0m\u001b[0m_set_device\u001b[0m\u001b[0;34m(\u001b[0m\u001b[0mtorch\u001b[0m\u001b[0;34m.\u001b[0m\u001b[0mdevice\u001b[0m\u001b[0;34m(\u001b[0m\u001b[0mdevice\u001b[0m\u001b[0;34m)\u001b[0m\u001b[0;34m)\u001b[0m\u001b[0;34m\u001b[0m\u001b[0;34m\u001b[0m\u001b[0m\n\u001b[0;32m--> 202\u001b[0;31m         \u001b[0;32mreturn\u001b[0m \u001b[0msuper\u001b[0m\u001b[0;34m(\u001b[0m\u001b[0;34m)\u001b[0m\u001b[0;34m.\u001b[0m\u001b[0mto\u001b[0m\u001b[0;34m(\u001b[0m\u001b[0;34m*\u001b[0m\u001b[0margs\u001b[0m\u001b[0;34m,\u001b[0m \u001b[0;34m**\u001b[0m\u001b[0mkwargs\u001b[0m\u001b[0;34m)\u001b[0m\u001b[0;34m\u001b[0m\u001b[0;34m\u001b[0m\u001b[0m\n\u001b[0m\u001b[1;32m    203\u001b[0m \u001b[0;34m\u001b[0m\u001b[0m\n\u001b[1;32m    204\u001b[0m     def cuda(\n",
      "\u001b[0;32m/opt/conda/lib/python3.7/site-packages/torch/nn/modules/module.py\u001b[0m in \u001b[0;36mto\u001b[0;34m(self, *args, **kwargs)\u001b[0m\n\u001b[1;32m    850\u001b[0m             \u001b[0;32mreturn\u001b[0m \u001b[0mt\u001b[0m\u001b[0;34m.\u001b[0m\u001b[0mto\u001b[0m\u001b[0;34m(\u001b[0m\u001b[0mdevice\u001b[0m\u001b[0;34m,\u001b[0m \u001b[0mdtype\u001b[0m \u001b[0;32mif\u001b[0m \u001b[0mt\u001b[0m\u001b[0;34m.\u001b[0m\u001b[0mis_floating_point\u001b[0m\u001b[0;34m(\u001b[0m\u001b[0;34m)\u001b[0m \u001b[0;32mor\u001b[0m \u001b[0mt\u001b[0m\u001b[0;34m.\u001b[0m\u001b[0mis_complex\u001b[0m\u001b[0;34m(\u001b[0m\u001b[0;34m)\u001b[0m \u001b[0;32melse\u001b[0m \u001b[0;32mNone\u001b[0m\u001b[0;34m,\u001b[0m \u001b[0mnon_blocking\u001b[0m\u001b[0;34m)\u001b[0m\u001b[0;34m\u001b[0m\u001b[0;34m\u001b[0m\u001b[0m\n\u001b[1;32m    851\u001b[0m \u001b[0;34m\u001b[0m\u001b[0m\n\u001b[0;32m--> 852\u001b[0;31m         \u001b[0;32mreturn\u001b[0m \u001b[0mself\u001b[0m\u001b[0;34m.\u001b[0m\u001b[0m_apply\u001b[0m\u001b[0;34m(\u001b[0m\u001b[0mconvert\u001b[0m\u001b[0;34m)\u001b[0m\u001b[0;34m\u001b[0m\u001b[0;34m\u001b[0m\u001b[0m\n\u001b[0m\u001b[1;32m    853\u001b[0m \u001b[0;34m\u001b[0m\u001b[0m\n\u001b[1;32m    854\u001b[0m     def register_backward_hook(\n",
      "\u001b[0;32m/opt/conda/lib/python3.7/site-packages/torch/nn/modules/module.py\u001b[0m in \u001b[0;36m_apply\u001b[0;34m(self, fn)\u001b[0m\n\u001b[1;32m    528\u001b[0m     \u001b[0;32mdef\u001b[0m \u001b[0m_apply\u001b[0m\u001b[0;34m(\u001b[0m\u001b[0mself\u001b[0m\u001b[0;34m,\u001b[0m \u001b[0mfn\u001b[0m\u001b[0;34m)\u001b[0m\u001b[0;34m:\u001b[0m\u001b[0;34m\u001b[0m\u001b[0;34m\u001b[0m\u001b[0m\n\u001b[1;32m    529\u001b[0m         \u001b[0;32mfor\u001b[0m \u001b[0mmodule\u001b[0m \u001b[0;32min\u001b[0m \u001b[0mself\u001b[0m\u001b[0;34m.\u001b[0m\u001b[0mchildren\u001b[0m\u001b[0;34m(\u001b[0m\u001b[0;34m)\u001b[0m\u001b[0;34m:\u001b[0m\u001b[0;34m\u001b[0m\u001b[0;34m\u001b[0m\u001b[0m\n\u001b[0;32m--> 530\u001b[0;31m             \u001b[0mmodule\u001b[0m\u001b[0;34m.\u001b[0m\u001b[0m_apply\u001b[0m\u001b[0;34m(\u001b[0m\u001b[0mfn\u001b[0m\u001b[0;34m)\u001b[0m\u001b[0;34m\u001b[0m\u001b[0;34m\u001b[0m\u001b[0m\n\u001b[0m\u001b[1;32m    531\u001b[0m \u001b[0;34m\u001b[0m\u001b[0m\n\u001b[1;32m    532\u001b[0m         \u001b[0;32mdef\u001b[0m \u001b[0mcompute_should_use_set_data\u001b[0m\u001b[0;34m(\u001b[0m\u001b[0mtensor\u001b[0m\u001b[0;34m,\u001b[0m \u001b[0mtensor_applied\u001b[0m\u001b[0;34m)\u001b[0m\u001b[0;34m:\u001b[0m\u001b[0;34m\u001b[0m\u001b[0;34m\u001b[0m\u001b[0m\n",
      "\u001b[0;32m/opt/conda/lib/python3.7/site-packages/torch/nn/modules/module.py\u001b[0m in \u001b[0;36m_apply\u001b[0;34m(self, fn)\u001b[0m\n\u001b[1;32m    571\u001b[0m         \u001b[0;32mfor\u001b[0m \u001b[0mkey\u001b[0m\u001b[0;34m,\u001b[0m \u001b[0mbuf\u001b[0m \u001b[0;32min\u001b[0m \u001b[0mself\u001b[0m\u001b[0;34m.\u001b[0m\u001b[0m_buffers\u001b[0m\u001b[0;34m.\u001b[0m\u001b[0mitems\u001b[0m\u001b[0;34m(\u001b[0m\u001b[0;34m)\u001b[0m\u001b[0;34m:\u001b[0m\u001b[0;34m\u001b[0m\u001b[0;34m\u001b[0m\u001b[0m\n\u001b[1;32m    572\u001b[0m             \u001b[0;32mif\u001b[0m \u001b[0mbuf\u001b[0m \u001b[0;32mis\u001b[0m \u001b[0;32mnot\u001b[0m \u001b[0;32mNone\u001b[0m\u001b[0;34m:\u001b[0m\u001b[0;34m\u001b[0m\u001b[0;34m\u001b[0m\u001b[0m\n\u001b[0;32m--> 573\u001b[0;31m                 \u001b[0mself\u001b[0m\u001b[0;34m.\u001b[0m\u001b[0m_buffers\u001b[0m\u001b[0;34m[\u001b[0m\u001b[0mkey\u001b[0m\u001b[0;34m]\u001b[0m \u001b[0;34m=\u001b[0m \u001b[0mfn\u001b[0m\u001b[0;34m(\u001b[0m\u001b[0mbuf\u001b[0m\u001b[0;34m)\u001b[0m\u001b[0;34m\u001b[0m\u001b[0;34m\u001b[0m\u001b[0m\n\u001b[0m\u001b[1;32m    574\u001b[0m \u001b[0;34m\u001b[0m\u001b[0m\n\u001b[1;32m    575\u001b[0m         \u001b[0;32mreturn\u001b[0m \u001b[0mself\u001b[0m\u001b[0;34m\u001b[0m\u001b[0;34m\u001b[0m\u001b[0m\n",
      "\u001b[0;32m/opt/conda/lib/python3.7/site-packages/torch/nn/modules/module.py\u001b[0m in \u001b[0;36mconvert\u001b[0;34m(t)\u001b[0m\n\u001b[1;32m    848\u001b[0m                 return t.to(device, dtype if t.is_floating_point() or t.is_complex() else None,\n\u001b[1;32m    849\u001b[0m                             non_blocking, memory_format=convert_to_format)\n\u001b[0;32m--> 850\u001b[0;31m             \u001b[0;32mreturn\u001b[0m \u001b[0mt\u001b[0m\u001b[0;34m.\u001b[0m\u001b[0mto\u001b[0m\u001b[0;34m(\u001b[0m\u001b[0mdevice\u001b[0m\u001b[0;34m,\u001b[0m \u001b[0mdtype\u001b[0m \u001b[0;32mif\u001b[0m \u001b[0mt\u001b[0m\u001b[0;34m.\u001b[0m\u001b[0mis_floating_point\u001b[0m\u001b[0;34m(\u001b[0m\u001b[0;34m)\u001b[0m \u001b[0;32mor\u001b[0m \u001b[0mt\u001b[0m\u001b[0;34m.\u001b[0m\u001b[0mis_complex\u001b[0m\u001b[0;34m(\u001b[0m\u001b[0;34m)\u001b[0m \u001b[0;32melse\u001b[0m \u001b[0;32mNone\u001b[0m\u001b[0;34m,\u001b[0m \u001b[0mnon_blocking\u001b[0m\u001b[0;34m)\u001b[0m\u001b[0;34m\u001b[0m\u001b[0;34m\u001b[0m\u001b[0m\n\u001b[0m\u001b[1;32m    851\u001b[0m \u001b[0;34m\u001b[0m\u001b[0m\n\u001b[1;32m    852\u001b[0m         \u001b[0;32mreturn\u001b[0m \u001b[0mself\u001b[0m\u001b[0;34m.\u001b[0m\u001b[0m_apply\u001b[0m\u001b[0;34m(\u001b[0m\u001b[0mconvert\u001b[0m\u001b[0;34m)\u001b[0m\u001b[0;34m\u001b[0m\u001b[0;34m\u001b[0m\u001b[0m\n",
      "\u001b[0;32m/opt/conda/lib/python3.7/site-packages/torch/cuda/__init__.py\u001b[0m in \u001b[0;36m_lazy_init\u001b[0;34m()\u001b[0m\n\u001b[1;32m    170\u001b[0m         \u001b[0;31m# This function throws if there's a driver initialization error, no GPUs\u001b[0m\u001b[0;34m\u001b[0m\u001b[0;34m\u001b[0m\u001b[0;34m\u001b[0m\u001b[0m\n\u001b[1;32m    171\u001b[0m         \u001b[0;31m# are found or any other error occurs\u001b[0m\u001b[0;34m\u001b[0m\u001b[0;34m\u001b[0m\u001b[0;34m\u001b[0m\u001b[0m\n\u001b[0;32m--> 172\u001b[0;31m         \u001b[0mtorch\u001b[0m\u001b[0;34m.\u001b[0m\u001b[0m_C\u001b[0m\u001b[0;34m.\u001b[0m\u001b[0m_cuda_init\u001b[0m\u001b[0;34m(\u001b[0m\u001b[0;34m)\u001b[0m\u001b[0;34m\u001b[0m\u001b[0;34m\u001b[0m\u001b[0m\n\u001b[0m\u001b[1;32m    173\u001b[0m         \u001b[0;31m# Some of the queued calls may reentrantly call _lazy_init();\u001b[0m\u001b[0;34m\u001b[0m\u001b[0;34m\u001b[0m\u001b[0;34m\u001b[0m\u001b[0m\n\u001b[1;32m    174\u001b[0m         \u001b[0;31m# we need to just return without initializing in that case.\u001b[0m\u001b[0;34m\u001b[0m\u001b[0;34m\u001b[0m\u001b[0;34m\u001b[0m\u001b[0m\n",
      "\u001b[0;31mRuntimeError\u001b[0m: Found no NVIDIA driver on your system. Please check that you have an NVIDIA GPU and installed a driver from http://www.nvidia.com/Download/index.aspx"
     ]
    }
   ],
   "source": [
    "from mmdet.apis import inference_detector, init_detector\n",
    "config = '/mmdetection/configs/mask_rcnn/mask-rcnn_r50-caffe_fpn_1x_coco.py'\n",
    "checkpoint = 'checkpoints/mask_rcnn_r50_caffe_fpn_1x_coco_bbox_mAP-0.38__segm_mAP-0.344_20200504_231812-0ebd1859.pth'\n",
    "model = init_detector(config, checkpoint, device='cuda:0')"
   ]
  },
  {
   "cell_type": "code",
   "execution_count": 9,
   "id": "1bdae07e-c55c-4af7-bd8c-25de4efd7dfa",
   "metadata": {
    "tags": []
   },
   "outputs": [
    {
     "name": "stdout",
     "output_type": "stream",
     "text": [
      "README.md\n",
      "mask-rcnn_r101-caffe_fpn_1x_coco.py\n",
      "mask-rcnn_r101-caffe_fpn_ms-poly-3x_coco.py\n",
      "mask-rcnn_r101_fpn_1x_coco.py\n",
      "mask-rcnn_r101_fpn_2x_coco.py\n",
      "mask-rcnn_r101_fpn_8xb8-amp-lsj-200e_coco.py\n",
      "mask-rcnn_r101_fpn_ms-poly-3x_coco.py\n",
      "mask-rcnn_r18_fpn_8xb8-amp-lsj-200e_coco.py\n",
      "mask-rcnn_r50-caffe-c4_1x_coco.py\n",
      "mask-rcnn_r50-caffe_fpn_1x_coco.py\n",
      "mask-rcnn_r50-caffe_fpn_ms-1x_coco.py\n",
      "mask-rcnn_r50-caffe_fpn_ms-poly-1x_coco.py\n",
      "mask-rcnn_r50-caffe_fpn_ms-poly-2x_coco.py\n",
      "mask-rcnn_r50-caffe_fpn_ms-poly-3x_coco.py\n",
      "mask-rcnn_r50-caffe_fpn_poly-1x_coco_v1.py\n",
      "mask-rcnn_r50_fpn_1x-wandb_coco.py\n",
      "mask-rcnn_r50_fpn_1x_coco.py\n",
      "mask-rcnn_r50_fpn_2x_coco.py\n",
      "mask-rcnn_r50_fpn_8xb8-amp-lsj-200e_coco.py\n",
      "mask-rcnn_r50_fpn_amp-1x_coco.py\n",
      "mask-rcnn_r50_fpn_ms-poly-3x_coco.py\n",
      "mask-rcnn_r50_fpn_poly-1x_coco.py\n",
      "mask-rcnn_x101-32x4d_fpn_1x_coco.py\n",
      "mask-rcnn_x101-32x4d_fpn_2x_coco.py\n",
      "mask-rcnn_x101-32x4d_fpn_ms-poly-3x_coco.py\n",
      "mask-rcnn_x101-32x8d_fpn_1x_coco.py\n",
      "mask-rcnn_x101-32x8d_fpn_ms-poly-1x_coco.py\n",
      "mask-rcnn_x101-32x8d_fpn_ms-poly-3x_coco.py\n",
      "mask-rcnn_x101-64x4d_fpn_1x_coco.py\n",
      "mask-rcnn_x101-64x4d_fpn_2x_coco.py\n",
      "mask-rcnn_x101-64x4d_fpn_ms-poly_3x_coco.py\n",
      "metafile.yml\n"
     ]
    }
   ],
   "source": [
    "!ls /mmdetection/configs/mask_rcnn"
   ]
  },
  {
   "cell_type": "code",
   "execution_count": null,
   "id": "89d6c7d8-e325-4954-b2dc-6634669703ee",
   "metadata": {},
   "outputs": [],
   "source": []
  },
  {
   "cell_type": "code",
   "execution_count": 15,
   "id": "9b354bf6-dc40-4352-9906-655cd73c0290",
   "metadata": {
    "tags": []
   },
   "outputs": [
    {
     "ename": "NameError",
     "evalue": "name 'model' is not defined",
     "output_type": "error",
     "traceback": [
      "\u001b[0;31m---------------------------------------------------------------------------\u001b[0m",
      "\u001b[0;31mNameError\u001b[0m                                 Traceback (most recent call last)",
      "\u001b[0;32m/tmp/ipykernel_17/3011543777.py\u001b[0m in \u001b[0;36m<module>\u001b[0;34m\u001b[0m\n\u001b[0;32m----> 1\u001b[0;31m \u001b[0mresult\u001b[0m \u001b[0;34m=\u001b[0m \u001b[0minference_detector\u001b[0m\u001b[0;34m(\u001b[0m\u001b[0mmodel\u001b[0m\u001b[0;34m,\u001b[0m \u001b[0;34m'/mmdetection/demo/demo.jpg'\u001b[0m\u001b[0;34m)\u001b[0m\u001b[0;34m\u001b[0m\u001b[0;34m\u001b[0m\u001b[0m\n\u001b[0m",
      "\u001b[0;31mNameError\u001b[0m: name 'model' is not defined"
     ]
    }
   ],
   "source": [
    "result = inference_detector(model, '/mmdetection/demo/demo.jpg')\n"
   ]
  },
  {
   "cell_type": "code",
   "execution_count": null,
   "id": "959cc02e-c52d-419d-885c-7a4b31c5debe",
   "metadata": {},
   "outputs": [],
   "source": []
  }
 ],
 "metadata": {
  "kernelspec": {
   "display_name": "Python 3 (ipykernel)",
   "language": "python",
   "name": "python3"
  },
  "language_info": {
   "codemirror_mode": {
    "name": "ipython",
    "version": 3
   },
   "file_extension": ".py",
   "mimetype": "text/x-python",
   "name": "python",
   "nbconvert_exporter": "python",
   "pygments_lexer": "ipython3",
   "version": "3.7.10"
  }
 },
 "nbformat": 4,
 "nbformat_minor": 5
}
