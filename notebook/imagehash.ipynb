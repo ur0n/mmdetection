{
 "cells": [
  {
   "cell_type": "code",
   "execution_count": 2,
   "id": "039b31eb-a552-443c-9d9a-ed54fdc646ad",
   "metadata": {
    "tags": []
   },
   "outputs": [],
   "source": [
    "from PIL import Image\n",
    "import imagehash\n",
    "hash1 = imagehash.average_hash(Image.open('images/75.jpg'))\n",
    "hash2 = imagehash.average_hash(Image.open('images/590.jpg'))"
   ]
  },
  {
   "cell_type": "code",
   "execution_count": 6,
   "id": "0d370ae1-00a3-4413-9b3a-f665532a9c7d",
   "metadata": {
    "tags": []
   },
   "outputs": [
    {
     "data": {
      "text/plain": [
       "<module 'imagehash' from '/opt/conda/lib/python3.7/site-packages/imagehash/__init__.py'>"
      ]
     },
     "execution_count": 6,
     "metadata": {},
     "output_type": "execute_result"
    }
   ],
   "source": [
    "imagehash"
   ]
  },
  {
   "cell_type": "code",
   "execution_count": 7,
   "id": "b01f0ccb-0b5c-4535-984f-a0dc308ad035",
   "metadata": {
    "tags": []
   },
   "outputs": [
    {
     "name": "stdout",
     "output_type": "stream",
     "text": [
      "ffff9f1010001837\n"
     ]
    }
   ],
   "source": [
    "print(hash1)"
   ]
  },
  {
   "cell_type": "code",
   "execution_count": 8,
   "id": "002e65ec-6310-4cea-930b-f91196662d1a",
   "metadata": {
    "tags": []
   },
   "outputs": [
    {
     "name": "stdout",
     "output_type": "stream",
     "text": [
      "ffff9f1010001837\n"
     ]
    }
   ],
   "source": [
    "print(hash2)"
   ]
  },
  {
   "cell_type": "code",
   "execution_count": 9,
   "id": "2c1dcf6f-1c76-45ca-a546-fa9acb69a8a0",
   "metadata": {
    "tags": []
   },
   "outputs": [],
   "source": [
    "hash3 = imagehash.average_hash(Image.open('images/1.jpg'))"
   ]
  },
  {
   "cell_type": "code",
   "execution_count": 10,
   "id": "283a3b4b-20d0-4105-82ad-aa6e95b341bf",
   "metadata": {
    "tags": []
   },
   "outputs": [
    {
     "name": "stdout",
     "output_type": "stream",
     "text": [
      "18a199999999ff3c\n"
     ]
    }
   ],
   "source": [
    "print(hash3)"
   ]
  },
  {
   "cell_type": "code",
   "execution_count": 11,
   "id": "4e3c5d1b-32bf-4476-b7ff-29c1706b1feb",
   "metadata": {
    "tags": []
   },
   "outputs": [
    {
     "data": {
      "text/plain": [
       "0"
      ]
     },
     "execution_count": 11,
     "metadata": {},
     "output_type": "execute_result"
    }
   ],
   "source": [
    "hash1 - hash2"
   ]
  },
  {
   "cell_type": "code",
   "execution_count": 12,
   "id": "2fc0578f-5fda-423b-a837-f371f9487e47",
   "metadata": {
    "tags": []
   },
   "outputs": [
    {
     "data": {
      "text/plain": [
       "32"
      ]
     },
     "execution_count": 12,
     "metadata": {},
     "output_type": "execute_result"
    }
   ],
   "source": [
    "hash1 - hash3"
   ]
  },
  {
   "cell_type": "code",
   "execution_count": 13,
   "id": "fc65ce53-1a36-41f1-bcbf-9c485b4da1b0",
   "metadata": {
    "tags": []
   },
   "outputs": [],
   "source": [
    "hash4 = imagehash.average_hash(Image.open('images/708.jpg'))"
   ]
  },
  {
   "cell_type": "code",
   "execution_count": 14,
   "id": "23e966a4-9391-4c22-a7e6-169208c7c89b",
   "metadata": {
    "tags": []
   },
   "outputs": [
    {
     "name": "stdout",
     "output_type": "stream",
     "text": [
      "ffff971010011937\n"
     ]
    }
   ],
   "source": [
    "print(hash4)"
   ]
  },
  {
   "cell_type": "code",
   "execution_count": 15,
   "id": "3487f2a3-b0ac-4baf-8a26-1efbef852dcd",
   "metadata": {
    "tags": []
   },
   "outputs": [
    {
     "data": {
      "text/plain": [
       "3"
      ]
     },
     "execution_count": 15,
     "metadata": {},
     "output_type": "execute_result"
    }
   ],
   "source": [
    "hash1 - hash4"
   ]
  },
  {
   "cell_type": "code",
   "execution_count": null,
   "id": "6e43b8c0-cd2c-43e1-8518-5dfa4037bf5c",
   "metadata": {},
   "outputs": [],
   "source": []
  }
 ],
 "metadata": {
  "kernelspec": {
   "display_name": "Python 3 (ipykernel)",
   "language": "python",
   "name": "python3"
  },
  "language_info": {
   "codemirror_mode": {
    "name": "ipython",
    "version": 3
   },
   "file_extension": ".py",
   "mimetype": "text/x-python",
   "name": "python",
   "nbconvert_exporter": "python",
   "pygments_lexer": "ipython3",
   "version": "3.7.10"
  }
 },
 "nbformat": 4,
 "nbformat_minor": 5
}
